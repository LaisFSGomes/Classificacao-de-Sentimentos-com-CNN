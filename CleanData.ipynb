{
  "nbformat": 4,
  "nbformat_minor": 0,
  "metadata": {
    "colab": {
      "name": "CleanData.ipynb",
      "provenance": [],
      "collapsed_sections": [],
      "mount_file_id": "1_Pxqmz0RrqKn376zRl2DzjJycoZXtn74",
      "authorship_tag": "ABX9TyNVrf8DE5IKpcUEpjC2asUi"
    },
    "kernelspec": {
      "name": "python3",
      "display_name": "Python 3"
    },
    "language_info": {
      "name": "python"
    }
  },
  "cells": [
    {
      "cell_type": "markdown",
      "metadata": {
        "id": "dc4AK6FAcFiP"
      },
      "source": [
        "Como demoraria muito tempo para fazer a limpeza dos dados a cada vez que executasse o treinamento, esse arquivo pega o dataset, faz a limpeza dos dados e gera um outro dataset com os dados limpos em um arquivo .csv"
      ]
    },
    {
      "cell_type": "code",
      "metadata": {
        "id": "koVYH5kYBF9_"
      },
      "source": [
        "import numpy as np              #lib cienfífica do python\n",
        "import re                       #porque vamos trabalhar com expressões regulares\n",
        "import pandas as pd             #para carregar a base de dados\n",
        "from bs4 import BeautifulSoup   #é usada pra se fazer preprocessamento em textos\n",
        "from google.colab import drive  #para termos acesso de recursos do google drive\n",
        "import csv"
      ],
      "execution_count": 159,
      "outputs": []
    },
    {
      "cell_type": "code",
      "metadata": {
        "colab": {
          "base_uri": "https://localhost:8080/"
        },
        "id": "QH_hcZc9BRBn",
        "outputId": "44564361-6d2b-4d9b-9994-60268ddaad61"
      },
      "source": [
        "drive.mount(\"/content/drive\")"
      ],
      "execution_count": 160,
      "outputs": [
        {
          "output_type": "stream",
          "text": [
            "Drive already mounted at /content/drive; to attempt to forcibly remount, call drive.mount(\"/content/drive\", force_remount=True).\n"
          ],
          "name": "stdout"
        }
      ]
    },
    {
      "cell_type": "code",
      "metadata": {
        "id": "1yDB9XQvBTHp"
      },
      "source": [
        "cols = ['sentiment', 'id', 'date', 'query', 'user', 'text']"
      ],
      "execution_count": 161,
      "outputs": []
    },
    {
      "cell_type": "code",
      "metadata": {
        "id": "RXEoAXKkBVGP"
      },
      "source": [
        "dataset = pd.read_csv('/content/drive/MyDrive/Database/tweets.csv', header= None, names= cols, engine='python', encoding='latin1')"
      ],
      "execution_count": 162,
      "outputs": []
    },
    {
      "cell_type": "code",
      "metadata": {
        "id": "9TBP7dnhBalG"
      },
      "source": [
        "dataset.drop(['id', 'date', 'query', 'user'], axis=1, inplace=True)"
      ],
      "execution_count": 163,
      "outputs": []
    },
    {
      "cell_type": "code",
      "metadata": {
        "id": "LnSoSEaSBgwd"
      },
      "source": [
        "y = dataset.iloc[:, 0].values\n",
        "x = dataset.iloc[:, 1].values"
      ],
      "execution_count": 164,
      "outputs": []
    },
    {
      "cell_type": "code",
      "metadata": {
        "colab": {
          "base_uri": "https://localhost:8080/"
        },
        "id": "TUCl1M74Bm85",
        "outputId": "c0a2ef24-5cce-403b-c086-bcc7f97454ef"
      },
      "source": [
        "tamanho, _ = dataset.shape\n",
        "tamanho"
      ],
      "execution_count": 165,
      "outputs": [
        {
          "output_type": "execute_result",
          "data": {
            "text/plain": [
              "1600000"
            ]
          },
          "metadata": {},
          "execution_count": 165
        }
      ]
    },
    {
      "cell_type": "code",
      "metadata": {
        "id": "yj5eGZNZL0vr"
      },
      "source": [
        "x, _, y, _ = train_test_split(X, y, test_size = 0.9, stratify = y)"
      ],
      "execution_count": 166,
      "outputs": []
    },
    {
      "cell_type": "code",
      "metadata": {
        "id": "SPgPielbZVs7"
      },
      "source": [
        "y[y == 4] = 1"
      ],
      "execution_count": 167,
      "outputs": []
    },
    {
      "cell_type": "code",
      "metadata": {
        "id": "F1RhP6riMYrS"
      },
      "source": [
        "a ={}\n",
        "a['sentiment']= y\n",
        "a['text']= x\n",
        "dados = pd.DataFrame(a)"
      ],
      "execution_count": 168,
      "outputs": []
    },
    {
      "cell_type": "code",
      "metadata": {
        "colab": {
          "base_uri": "https://localhost:8080/",
          "height": 418
        },
        "id": "NZ3s9XFwOu_A",
        "outputId": "ea4651ca-6db3-4767-ae18-813ccc2ce867"
      },
      "source": [
        "dados"
      ],
      "execution_count": 169,
      "outputs": [
        {
          "output_type": "execute_result",
          "data": {
            "text/html": [
              "<div>\n",
              "<style scoped>\n",
              "    .dataframe tbody tr th:only-of-type {\n",
              "        vertical-align: middle;\n",
              "    }\n",
              "\n",
              "    .dataframe tbody tr th {\n",
              "        vertical-align: top;\n",
              "    }\n",
              "\n",
              "    .dataframe thead th {\n",
              "        text-align: right;\n",
              "    }\n",
              "</style>\n",
              "<table border=\"1\" class=\"dataframe\">\n",
              "  <thead>\n",
              "    <tr style=\"text-align: right;\">\n",
              "      <th></th>\n",
              "      <th>sentiment</th>\n",
              "      <th>text</th>\n",
              "    </tr>\n",
              "  </thead>\n",
              "  <tbody>\n",
              "    <tr>\n",
              "      <th>0</th>\n",
              "      <td>1</td>\n",
              "      <td>@DrRandPink aw..thats sooo sweet. hv a great s...</td>\n",
              "    </tr>\n",
              "    <tr>\n",
              "      <th>1</th>\n",
              "      <td>0</td>\n",
              "      <td>@Helixer yeah. the dining hall at my camp just...</td>\n",
              "    </tr>\n",
              "    <tr>\n",
              "      <th>2</th>\n",
              "      <td>1</td>\n",
              "      <td>Once again.I beg of you ..Please vote for Mr T...</td>\n",
              "    </tr>\n",
              "    <tr>\n",
              "      <th>3</th>\n",
              "      <td>0</td>\n",
              "      <td>im watching VH1 THE LAST DAYS OF LISA &amp;quot;LE...</td>\n",
              "    </tr>\n",
              "    <tr>\n",
              "      <th>4</th>\n",
              "      <td>1</td>\n",
              "      <td>@Bethaneystone Watching Mr &amp;amp; Mrs  lol im T...</td>\n",
              "    </tr>\n",
              "    <tr>\n",
              "      <th>...</th>\n",
              "      <td>...</td>\n",
              "      <td>...</td>\n",
              "    </tr>\n",
              "    <tr>\n",
              "      <th>159995</th>\n",
              "      <td>0</td>\n",
              "      <td>i wish it weren't raining</td>\n",
              "    </tr>\n",
              "    <tr>\n",
              "      <th>159996</th>\n",
              "      <td>0</td>\n",
              "      <td>@crystalchappell have you given @tinasloan twe...</td>\n",
              "    </tr>\n",
              "    <tr>\n",
              "      <th>159997</th>\n",
              "      <td>0</td>\n",
              "      <td>i want my virginia beach hoodie back but krist...</td>\n",
              "    </tr>\n",
              "    <tr>\n",
              "      <th>159998</th>\n",
              "      <td>0</td>\n",
              "      <td>I hurt the crap out of my nail while packing e...</td>\n",
              "    </tr>\n",
              "    <tr>\n",
              "      <th>159999</th>\n",
              "      <td>0</td>\n",
              "      <td>fun dreaming. I'm off to bed an hour later tha...</td>\n",
              "    </tr>\n",
              "  </tbody>\n",
              "</table>\n",
              "<p>160000 rows × 2 columns</p>\n",
              "</div>"
            ],
            "text/plain": [
              "        sentiment                                               text\n",
              "0               1  @DrRandPink aw..thats sooo sweet. hv a great s...\n",
              "1               0  @Helixer yeah. the dining hall at my camp just...\n",
              "2               1  Once again.I beg of you ..Please vote for Mr T...\n",
              "3               0  im watching VH1 THE LAST DAYS OF LISA &quot;LE...\n",
              "4               1  @Bethaneystone Watching Mr &amp; Mrs  lol im T...\n",
              "...           ...                                                ...\n",
              "159995          0                         i wish it weren't raining \n",
              "159996          0  @crystalchappell have you given @tinasloan twe...\n",
              "159997          0  i want my virginia beach hoodie back but krist...\n",
              "159998          0  I hurt the crap out of my nail while packing e...\n",
              "159999          0  fun dreaming. I'm off to bed an hour later tha...\n",
              "\n",
              "[160000 rows x 2 columns]"
            ]
          },
          "metadata": {},
          "execution_count": 169
        }
      ]
    },
    {
      "cell_type": "code",
      "metadata": {
        "id": "qUQydTnICsxo"
      },
      "source": [
        "nlp = sp.load('en')"
      ],
      "execution_count": 170,
      "outputs": []
    },
    {
      "cell_type": "code",
      "metadata": {
        "id": "pZtFaNbxDAuA"
      },
      "source": [
        "def clean_tweets(tweet):\n",
        "  tweet = BeautifulSoup(tweet, 'lxml').get_text()\n",
        "  tweet = re.sub(r\"@[A-Za-z0-9]+\", ' ', tweet) #retirar o @user\n",
        "  tweet = re.sub(r\"https?://[A-Za-z0-9./]+\", \" \", tweet) #retirar a url\n",
        "  tweet = re.sub(r\"[^a-zA-Z.!?]\", ' ', tweet) #retirar os numeros\n",
        "  tweet = re.sub(r\" +\", ' ', tweet) #remover os excessos de espaços\n",
        "\n",
        "  tweet = tweet.lower() #conversão para minúsculo\n",
        "  document = nlp(tweet)\n",
        "\n",
        "  words = []\n",
        "  for token in document:\n",
        "    words.append(token.text)\n",
        "\n",
        "    #remoção das stop_words e pontuações\n",
        "  words = [word for word in words if word not in string.punctuation]\n",
        "  words = ' '.join([str(element) for element in words])\n",
        "  return words"
      ],
      "execution_count": 28,
      "outputs": []
    },
    {
      "cell_type": "code",
      "metadata": {
        "id": "xR6KfN-JDH6o"
      },
      "source": [
        "dados.text = [clean_tweets(tweet) for tweet in dados.text]"
      ],
      "execution_count": 173,
      "outputs": []
    },
    {
      "cell_type": "code",
      "metadata": {
        "id": "9y50aIrQZM4L"
      },
      "source": [
        ""
      ],
      "execution_count": null,
      "outputs": []
    },
    {
      "cell_type": "code",
      "metadata": {
        "id": "7uHy85RNDUZ3"
      },
      "source": [
        "f = open('dataset.csv', 'w', newline='', encoding='utf-8')"
      ],
      "execution_count": 174,
      "outputs": []
    },
    {
      "cell_type": "code",
      "metadata": {
        "id": "3dbyDMSvEeoF"
      },
      "source": [
        "w = csv.writer(f)"
      ],
      "execution_count": 175,
      "outputs": []
    },
    {
      "cell_type": "code",
      "metadata": {
        "id": "749eCfI_IQ34"
      },
      "source": [
        "dataset.to_csv('dataset.csv')"
      ],
      "execution_count": 176,
      "outputs": []
    }
  ]
}