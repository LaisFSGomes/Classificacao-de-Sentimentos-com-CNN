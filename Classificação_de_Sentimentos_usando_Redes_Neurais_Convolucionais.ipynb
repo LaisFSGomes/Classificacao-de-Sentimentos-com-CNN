{
  "nbformat": 4,
  "nbformat_minor": 0,
  "metadata": {
    "colab": {
      "name": "CLASSIFICACAO DE SENTIMENTOS.ipynb",
      "provenance": [],
      "authorship_tag": "ABX9TyO2U4vle3Ik4Rk0oBuEXxLw"
    },
    "kernelspec": {
      "name": "python3",
      "display_name": "Python 3"
    },
    "language_info": {
      "name": "python"
    }
  },
  "cells": [
    {
      "cell_type": "markdown",
      "metadata": {
        "id": "FzXwaqeWJ867"
      },
      "source": [
        "# Importação das Bibliotecas"
      ]
    },
    {
      "cell_type": "code",
      "metadata": {
        "id": "CTx-3xH0J53p"
      },
      "source": [
        "import numpy as np              #lib cienfífica do python\n",
        "import math                     #para ter-mos acesso a recursosd e calculos matemáticos\n",
        "import re                       #porque vamos trabalhar com expressões regulares\n",
        "import pandas as pd             #para carregar a base de dados\n",
        "from bs4 import BeautifulSoup   #é usada pra se fazer preprocessamento em textos\n",
        "from google.colab import drive  #para termos acesso de recursos do google drive\n",
        "import zipfile                  #para poder descompactar arquivos .zip\n",
        "import seaborn as sns           #para visualização de gráficos\n",
        "import spacy as sp              #é uma lib de processamento de linguagem natural que será usada para fazer o preprocessamento em alguns textos\n",
        "import string                   #vai ser usada para o pré processamento dos textos\n",
        "import random                   #para números aleatórios\n",
        "import matplotlib.pyplot as plt #usada para gerar gráficos\n",
        "from sklearn.model_selection import train_test_split\n",
        "from sklearn.metrics import confusion_matrix\n",
        "%tensorflow_version 2.x\n",
        "import tensorflow as tf\n",
        "from tensorflow.keras import layers   #para ter-mos acesso as camadas\n",
        "import tensorflow_datasets as tfds   "
      ],
      "execution_count": 2,
      "outputs": []
    },
    {
      "cell_type": "markdown",
      "metadata": {
        "id": "PuSEUfCMKOSh"
      },
      "source": [
        "# Pré-Processamento"
      ]
    },
    {
      "cell_type": "code",
      "metadata": {
        "colab": {
          "base_uri": "https://localhost:8080/"
        },
        "id": "9IjtXNRPKSju",
        "outputId": "84ef72ce-ae41-4f5b-e7c1-64d1302fade1"
      },
      "source": [
        "drive.mount(\"/content/drive\")"
      ],
      "execution_count": 3,
      "outputs": [
        {
          "output_type": "stream",
          "text": [
            "Mounted at /content/drive\n"
          ],
          "name": "stdout"
        }
      ]
    },
    {
      "cell_type": "code",
      "metadata": {
        "id": "qqJMy3p3KxAx"
      },
      "source": [
        "cols = ['sentiment', 'id', 'date', 'query', 'user', 'text']"
      ],
      "execution_count": 5,
      "outputs": []
    },
    {
      "cell_type": "code",
      "metadata": {
        "id": "1r2lxvl8KWoO"
      },
      "source": [
        "dataset = pd.read_csv('/content/drive/MyDrive/Database/tweets.csv', header= None, names= cols, engine='python', encoding='latin1')"
      ],
      "execution_count": 6,
      "outputs": []
    },
    {
      "cell_type": "code",
      "metadata": {
        "colab": {
          "base_uri": "https://localhost:8080/",
          "height": 352
        },
        "id": "KJNBZWDSLAMB",
        "outputId": "22e8db00-b627-47a4-a189-a7c722bb543f"
      },
      "source": [
        "sns.countplot(dataset.sentiment)"
      ],
      "execution_count": 8,
      "outputs": [
        {
          "output_type": "stream",
          "text": [
            "/usr/local/lib/python3.7/dist-packages/seaborn/_decorators.py:43: FutureWarning: Pass the following variable as a keyword arg: x. From version 0.12, the only valid positional argument will be `data`, and passing other arguments without an explicit keyword will result in an error or misinterpretation.\n",
            "  FutureWarning\n"
          ],
          "name": "stderr"
        },
        {
          "output_type": "execute_result",
          "data": {
            "text/plain": [
              "<matplotlib.axes._subplots.AxesSubplot at 0x7f53b64f5ed0>"
            ]
          },
          "metadata": {},
          "execution_count": 8
        },
        {
          "output_type": "display_data",
          "data": {
            "image/png": "[encoded data removed]",
            "text/plain": [
              "<Figure size 432x288 with 1 Axes>"
            ]
          },
          "metadata": {
            "needs_background": "light"
          }
        }
      ]
    },
    {
      "cell_type": "code",
      "metadata": {
        "colab": {
          "base_uri": "https://localhost:8080/",
          "height": 204
        },
        "id": "8-JcFz0yLGFj",
        "outputId": "5d48d5aa-15a2-4b65-cf77-fb1b871daa0e"
      },
      "source": [
        "dataset.head()"
      ],
      "execution_count": 11,
      "outputs": [
        {
          "output_type": "execute_result",
          "data": {
            "text/html": [
              "<div>\n",
              "<style scoped>\n",
              "    .dataframe tbody tr th:only-of-type {\n",
              "        vertical-align: middle;\n",
              "    }\n",
              "\n",
              "    .dataframe tbody tr th {\n",
              "        vertical-align: top;\n",
              "    }\n",
              "\n",
              "    .dataframe thead th {\n",
              "        text-align: right;\n",
              "    }\n",
              "</style>\n",
              "<table border=\"1\" class=\"dataframe\">\n",
              "  <thead>\n",
              "    <tr style=\"text-align: right;\">\n",
              "      <th></th>\n",
              "      <th>sentiment</th>\n",
              "      <th>id</th>\n",
              "      <th>date</th>\n",
              "      <th>query</th>\n",
              "      <th>user</th>\n",
              "      <th>text</th>\n",
              "    </tr>\n",
              "  </thead>\n",
              "  <tbody>\n",
              "    <tr>\n",
              "      <th>0</th>\n",
              "      <td>0</td>\n",
              "      <td>1467810369</td>\n",
              "      <td>Mon Apr 06 22:19:45 PDT 2009</td>\n",
              "      <td>NO_QUERY</td>\n",
              "      <td>_TheSpecialOne_</td>\n",
              "      <td>@switchfoot http://twitpic.com/2y1zl - Awww, t...</td>\n",
              "    </tr>\n",
              "    <tr>\n",
              "      <th>1</th>\n",
              "      <td>0</td>\n",
              "      <td>1467810672</td>\n",
              "      <td>Mon Apr 06 22:19:49 PDT 2009</td>\n",
              "      <td>NO_QUERY</td>\n",
              "      <td>scotthamilton</td>\n",
              "      <td>is upset that he can't update his Facebook by ...</td>\n",
              "    </tr>\n",
              "    <tr>\n",
              "      <th>2</th>\n",
              "      <td>0</td>\n",
              "      <td>1467810917</td>\n",
              "      <td>Mon Apr 06 22:19:53 PDT 2009</td>\n",
              "      <td>NO_QUERY</td>\n",
              "      <td>mattycus</td>\n",
              "      <td>@Kenichan I dived many times for the ball. Man...</td>\n",
              "    </tr>\n",
              "    <tr>\n",
              "      <th>3</th>\n",
              "      <td>0</td>\n",
              "      <td>1467811184</td>\n",
              "      <td>Mon Apr 06 22:19:57 PDT 2009</td>\n",
              "      <td>NO_QUERY</td>\n",
              "      <td>ElleCTF</td>\n",
              "      <td>my whole body feels itchy and like its on fire</td>\n",
              "    </tr>\n",
              "    <tr>\n",
              "      <th>4</th>\n",
              "      <td>0</td>\n",
              "      <td>1467811193</td>\n",
              "      <td>Mon Apr 06 22:19:57 PDT 2009</td>\n",
              "      <td>NO_QUERY</td>\n",
              "      <td>Karoli</td>\n",
              "      <td>@nationwideclass no, it's not behaving at all....</td>\n",
              "    </tr>\n",
              "  </tbody>\n",
              "</table>\n",
              "</div>"
            ],
            "text/plain": [
              "   sentiment  ...                                               text\n",
              "0          0  ...  @switchfoot http://twitpic.com/2y1zl - Awww, t...\n",
              "1          0  ...  is upset that he can't update his Facebook by ...\n",
              "2          0  ...  @Kenichan I dived many times for the ball. Man...\n",
              "3          0  ...    my whole body feels itchy and like its on fire \n",
              "4          0  ...  @nationwideclass no, it's not behaving at all....\n",
              "\n",
              "[5 rows x 6 columns]"
            ]
          },
          "metadata": {},
          "execution_count": 11
        }
      ]
    },
    {
      "cell_type": "code",
      "metadata": {
        "id": "zHkQNYPmLLB1"
      },
      "source": [
        "dataset.drop(['id', 'date', 'query', 'user'], axis=1, inplace=True);"
      ],
      "execution_count": 12,
      "outputs": []
    },
    {
      "cell_type": "code",
      "metadata": {
        "colab": {
          "base_uri": "https://localhost:8080/",
          "height": 204
        },
        "id": "tmEXxGkHMFzk",
        "outputId": "7ddc97c2-9fb1-47fb-e8ce-c75bde04c5a5"
      },
      "source": [
        "dataset.head()"
      ],
      "execution_count": 14,
      "outputs": [
        {
          "output_type": "execute_result",
          "data": {
            "text/html": [
              "<div>\n",
              "<style scoped>\n",
              "    .dataframe tbody tr th:only-of-type {\n",
              "        vertical-align: middle;\n",
              "    }\n",
              "\n",
              "    .dataframe tbody tr th {\n",
              "        vertical-align: top;\n",
              "    }\n",
              "\n",
              "    .dataframe thead th {\n",
              "        text-align: right;\n",
              "    }\n",
              "</style>\n",
              "<table border=\"1\" class=\"dataframe\">\n",
              "  <thead>\n",
              "    <tr style=\"text-align: right;\">\n",
              "      <th></th>\n",
              "      <th>sentiment</th>\n",
              "      <th>text</th>\n",
              "    </tr>\n",
              "  </thead>\n",
              "  <tbody>\n",
              "    <tr>\n",
              "      <th>0</th>\n",
              "      <td>0</td>\n",
              "      <td>@switchfoot http://twitpic.com/2y1zl - Awww, t...</td>\n",
              "    </tr>\n",
              "    <tr>\n",
              "      <th>1</th>\n",
              "      <td>0</td>\n",
              "      <td>is upset that he can't update his Facebook by ...</td>\n",
              "    </tr>\n",
              "    <tr>\n",
              "      <th>2</th>\n",
              "      <td>0</td>\n",
              "      <td>@Kenichan I dived many times for the ball. Man...</td>\n",
              "    </tr>\n",
              "    <tr>\n",
              "      <th>3</th>\n",
              "      <td>0</td>\n",
              "      <td>my whole body feels itchy and like its on fire</td>\n",
              "    </tr>\n",
              "    <tr>\n",
              "      <th>4</th>\n",
              "      <td>0</td>\n",
              "      <td>@nationwideclass no, it's not behaving at all....</td>\n",
              "    </tr>\n",
              "  </tbody>\n",
              "</table>\n",
              "</div>"
            ],
            "text/plain": [
              "   sentiment                                               text\n",
              "0          0  @switchfoot http://twitpic.com/2y1zl - Awww, t...\n",
              "1          0  is upset that he can't update his Facebook by ...\n",
              "2          0  @Kenichan I dived many times for the ball. Man...\n",
              "3          0    my whole body feels itchy and like its on fire \n",
              "4          0  @nationwideclass no, it's not behaving at all...."
            ]
          },
          "metadata": {},
          "execution_count": 14
        }
      ]
    },
    {
      "cell_type": "code",
      "metadata": {
        "colab": {
          "base_uri": "https://localhost:8080/"
        },
        "id": "exwtp--nMIAf",
        "outputId": "40d97928-c22f-45b1-a28e-7d460c7a8992"
      },
      "source": [
        "y = dataset.iloc[:, 0]\n",
        "X = dataset.iloc[:, 1]\n",
        "[X.shape, y.shape]"
      ],
      "execution_count": 15,
      "outputs": [
        {
          "output_type": "execute_result",
          "data": {
            "text/plain": [
              "[(1600000,), (1600000,)]"
            ]
          },
          "metadata": {},
          "execution_count": 15
        }
      ]
    },
    {
      "cell_type": "code",
      "metadata": {
        "id": "iiN2-6beMaGI"
      },
      "source": [
        "X, _, y, _ = train_test_split(X, y, test_size = 0.85, stratify = y) #reduzindo os dados que serão usados "
      ],
      "execution_count": 16,
      "outputs": []
    },
    {
      "cell_type": "code",
      "metadata": {
        "colab": {
          "base_uri": "https://localhost:8080/"
        },
        "id": "VsqIG1xjMir_",
        "outputId": "20d6c424-a84d-49b9-8a03-6a15b0b3aa56"
      },
      "source": [
        "[X.shape, y.shape]"
      ],
      "execution_count": 17,
      "outputs": [
        {
          "output_type": "execute_result",
          "data": {
            "text/plain": [
              "[(240000,), (240000,)]"
            ]
          },
          "metadata": {},
          "execution_count": 17
        }
      ]
    },
    {
      "cell_type": "code",
      "metadata": {
        "colab": {
          "base_uri": "https://localhost:8080/"
        },
        "id": "LvYZ6S3nMlLF",
        "outputId": "1af77951-138d-480e-883f-c57591370c57"
      },
      "source": [
        "sentimento, quantidade = np.unique(y, return_counts=True)\n",
        "[sentimento, quantidade]"
      ],
      "execution_count": 21,
      "outputs": [
        {
          "output_type": "execute_result",
          "data": {
            "text/plain": [
              "[array([0, 1]), array([120000, 120000])]"
            ]
          },
          "metadata": {},
          "execution_count": 21
        }
      ]
    },
    {
      "cell_type": "code",
      "metadata": {
        "id": "69xs4WvpM16A"
      },
      "source": [
        "y[y == 4] = 1"
      ],
      "execution_count": 22,
      "outputs": []
    },
    {
      "cell_type": "code",
      "metadata": {
        "colab": {
          "base_uri": "https://localhost:8080/"
        },
        "id": "I0-SYoS8M5ay",
        "outputId": "fb82f3d9-f4f6-4573-a448-07109aab0cf1"
      },
      "source": [
        "sentimento, quantidade = np.unique(y, return_counts=True)\n",
        "[sentimento, quantidade]"
      ],
      "execution_count": 23,
      "outputs": [
        {
          "output_type": "execute_result",
          "data": {
            "text/plain": [
              "[array([0, 1]), array([120000, 120000])]"
            ]
          },
          "metadata": {},
          "execution_count": 23
        }
      ]
    },
    {
      "cell_type": "code",
      "metadata": {
        "id": "3hBAl2tIMzUq"
      },
      "source": [
        "nlp = sp.load('en')\n",
        "stop_words = sp.lang.en.STOP_WORDS #lista das palavras que podem ser removidas\n"
      ],
      "execution_count": 24,
      "outputs": []
    },
    {
      "cell_type": "code",
      "metadata": {
        "id": "4Nhv0AuFNGCo"
      },
      "source": [
        "def clean_tweets(tweet):\n",
        "  tweet = BeautifulSoup(tweet, 'lxml').get_text()\n",
        "  tweet = re.sub(r\"@[A-Za-z0-9]+\", ' ', tweet) #retirar o @user\n",
        "  tweet = re.sub(r\"https?://[A-Za-z0-9./]+\", \" \", tweet) #retirar a url\n",
        "  tweet = re.sub(r\"[^a-zA-Z.!?]\", ' ', tweet) #retirar os numeros\n",
        "  tweet = re.sub(r\" +\", ' ', tweet) #remover os excessos de espaços\n",
        "\n",
        "  tweet = tweet.lower() #conversão para minúsculo\n",
        "  document = nlp(tweet)\n",
        "\n",
        "  words = []\n",
        "  for token in document:\n",
        "    words.append(token.text)\n",
        "\n",
        "    #remoção das stop_words e pontuações\n",
        "  words = [word for word in words if word not in stop_words and word not in string.punctuation]\n",
        "  words = ' '.join([str(element) for element in words])\n",
        "  return words"
      ],
      "execution_count": 27,
      "outputs": []
    },
    {
      "cell_type": "code",
      "metadata": {
        "id": "rDNzYelNNUf0"
      },
      "source": [
        "text = '@Kenichan I dived many times for the ball. Managed to save 50%  The rest go out of bounds'"
      ],
      "execution_count": 32,
      "outputs": []
    },
    {
      "cell_type": "code",
      "metadata": {
        "colab": {
          "base_uri": "https://localhost:8080/",
          "height": 36
        },
        "id": "q50gcexYN9ef",
        "outputId": "77175463-9959-457b-a324-6d2fbd01e700"
      },
      "source": [
        "text = clean_tweets(text)\n",
        "text"
      ],
      "execution_count": 33,
      "outputs": [
        {
          "output_type": "execute_result",
          "data": {
            "application/vnd.google.colaboratory.intrinsic+json": {
              "type": "string"
            },
            "text/plain": [
              "'  dived times ball managed save rest bounds'"
            ]
          },
          "metadata": {},
          "execution_count": 33
        }
      ]
    },
    {
      "cell_type": "code",
      "metadata": {
        "id": "Oot1R7ATN52b"
      },
      "source": [
        "data_clean = [clean_tweets(tweet) for tweet in X]"
      ],
      "execution_count": 34,
      "outputs": []
    },
    {
      "cell_type": "code",
      "metadata": {
        "colab": {
          "base_uri": "https://localhost:8080/"
        },
        "id": "2ezSWJYtON8B",
        "outputId": "dd5b50c2-a4c3-4f87-93fb-cf0df2b19a82"
      },
      "source": [
        "for _ in range(10):\n",
        "  print(data_clean[random.randint(0, len(data_clean) - 1)])"
      ],
      "execution_count": 35,
      "outputs": [
        {
          "output_type": "stream",
          "text": [
            "  sweet drunkie\n",
            "krill unique discovery decade bet wrong\n",
            "start twittering\n",
            "realized forgot tell tv record gossip girl super pissed ed westwick\n",
            "  check cattle prods today\n",
            "super paranoid right s mosquito room\n",
            "half way work today bummer\n",
            "momma s finally taking shopping s time mommy time\n",
            "  s exciting congrats hour mins cardio\n",
            "  thank ... lovely catch\n"
          ],
          "name": "stdout"
        }
      ]
    },
    {
      "cell_type": "markdown",
      "metadata": {
        "id": "PM4S-dtpYMTo"
      },
      "source": [
        "# Tokenização"
      ]
    },
    {
      "cell_type": "code",
      "metadata": {
        "id": "JLwVOJEoYO2J"
      },
      "source": [
        "tokenizer = tfds.deprecated.text.SubwordTextEncoder.build_from_corpus(data_clean, target_vocab_size=65000)"
      ],
      "execution_count": 37,
      "outputs": []
    },
    {
      "cell_type": "markdown",
      "metadata": {
        "id": "a9XcSUEDZOfR"
      },
      "source": [
        "*   A língua inglesa tem um total estimado de palavras entre 500 mil e 1,2 milhão.\n",
        "*   Uma pessoa adulta pode conhecer entre 10 mil e 20 mil palavras\n",
        "*   No dia a dia as pessoas costumam usar em média 3 mil palavras\n",
        "\n",
        "Ou seja,\n",
        "> Não precisa de um vocabulário gigantemente enorme para o algoritmo funcionar\n",
        "\n",
        "\n",
        "\n",
        "\n",
        "\n",
        "\n"
      ]
    },
    {
      "cell_type": "code",
      "metadata": {
        "colab": {
          "base_uri": "https://localhost:8080/"
        },
        "id": "yuaV4lFSaGF2",
        "outputId": "a91bf19a-e8e6-4ce3-f9e2-1be2c9feb219"
      },
      "source": [
        "print(tokenizer.vocab_size)"
      ],
      "execution_count": 39,
      "outputs": [
        {
          "output_type": "stream",
          "text": [
            "52657\n"
          ],
          "name": "stdout"
        }
      ]
    },
    {
      "cell_type": "code",
      "metadata": {
        "colab": {
          "base_uri": "https://localhost:8080/"
        },
        "id": "-iWlkp3CaWjH",
        "outputId": "6e071ea3-227e-4622-c3ec-893ddfcfacf9"
      },
      "source": [
        "id_phrase = tokenizer.encode(\"i am happy\")\n",
        "id_phrase"
      ],
      "execution_count": 42,
      "outputs": [
        {
          "output_type": "execute_result",
          "data": {
            "text/plain": [
              "[274, 4371, 418]"
            ]
          },
          "metadata": {},
          "execution_count": 42
        }
      ]
    },
    {
      "cell_type": "code",
      "metadata": {
        "colab": {
          "base_uri": "https://localhost:8080/",
          "height": 36
        },
        "id": "HhGoO31jacoA",
        "outputId": "a3bc06ff-f18d-45bc-f948-45f860ddb16a"
      },
      "source": [
        "phrase = tokenizer.decode(id_phrase)\n",
        "phrase"
      ],
      "execution_count": 44,
      "outputs": [
        {
          "output_type": "execute_result",
          "data": {
            "application/vnd.google.colaboratory.intrinsic+json": {
              "type": "string"
            },
            "text/plain": [
              "'i am happy'"
            ]
          },
          "metadata": {},
          "execution_count": 44
        }
      ]
    },
    {
      "cell_type": "code",
      "metadata": {
        "id": "HBQlgcdJaOiS"
      },
      "source": [
        "data_inputs = [tokenizer.encode(frase) for frase in data_clean]"
      ],
      "execution_count": 46,
      "outputs": []
    },
    {
      "cell_type": "code",
      "metadata": {
        "colab": {
          "base_uri": "https://localhost:8080/"
        },
        "id": "VykQrHNqbJIF",
        "outputId": "ce470d7e-6c84-478a-9d16-764d097f014d"
      },
      "source": [
        "for _ in range(10):\n",
        "  print(data_inputs[random.randint(0, len(data_inputs) - 1)])"
      ],
      "execution_count": 48,
      "outputs": [
        {
          "output_type": "stream",
          "text": [
            "[3831, 28291, 597]\n",
            "[1, 1745, 470, 4, 214, 5006]\n",
            "[776]\n",
            "[2147]\n",
            "[1, 20, 16816, 5603, 11104, 47, 1723, 39895, 3709, 111, 21824, 5284]\n",
            "[45, 43, 357, 6438, 5, 6851, 52522]\n",
            "[388, 9633, 3, 4066]\n",
            "[1, 48, 138, 889, 4925, 1396, 2, 1482, 4797, 7605, 1270, 16813, 5920, 4015]\n",
            "[1, 339, 11994, 250, 6328, 4, 64, 76, 28430, 1243]\n",
            "[202, 26, 217, 3, 2725, 108, 34, 119, 769, 16]\n"
          ],
          "name": "stdout"
        }
      ]
    },
    {
      "cell_type": "markdown",
      "metadata": {
        "id": "UQn0qMYHbSvK"
      },
      "source": [
        "# Padding"
      ]
    },
    {
      "cell_type": "code",
      "metadata": {
        "colab": {
          "base_uri": "https://localhost:8080/"
        },
        "id": "ayuNua44bVL3",
        "outputId": "981421ef-9c5a-47c3-b009-a681e750f917"
      },
      "source": [
        "max_len = max([len(sentence) for sentence in data_inputs]) #vendo quem tem o maior tamanho\n",
        "max_len"
      ],
      "execution_count": 50,
      "outputs": [
        {
          "output_type": "execute_result",
          "data": {
            "text/plain": [
              "46"
            ]
          },
          "metadata": {},
          "execution_count": 50
        }
      ]
    },
    {
      "cell_type": "code",
      "metadata": {
        "id": "VboyGRRVbeFB"
      },
      "source": [
        "#fazer o preenchimento para todos os data_inputs possuírem o mesmo tamanho\n",
        "data_inputs = tf.keras.preprocessing.sequence.pad_sequences(data_inputs, value=0, padding='post', maxlen=max_len)"
      ],
      "execution_count": 51,
      "outputs": []
    },
    {
      "cell_type": "code",
      "metadata": {
        "colab": {
          "base_uri": "https://localhost:8080/"
        },
        "id": "R9-kJG7kcAMa",
        "outputId": "ebcdf6fd-0c08-40e6-a94a-ab2a40ef240e"
      },
      "source": [
        "for _ in range(10):\n",
        "  print(data_inputs[random.randint(0, len(data_inputs) - 1)])"
      ],
      "execution_count": 52,
      "outputs": [
        {
          "output_type": "stream",
          "text": [
            "[    1    14   240   360    20 24358 17545     0     0     0     0     0\n",
            "     0     0     0     0     0     0     0     0     0     0     0     0\n",
            "     0     0     0     0     0     0     0     0     0     0     0     0\n",
            "     0     0     0     0     0     0     0     0     0     0]\n",
            "[  11 2806    2  134 6125 1110  633 2805 3845  968  258 1097   35  127\n",
            "   31  699    0    0    0    0    0    0    0    0    0    0    0    0\n",
            "    0    0    0    0    0    0    0    0    0    0    0    0    0    0\n",
            "    0    0    0    0]\n",
            "[  1  92 119 783 461   0   0   0   0   0   0   0   0   0   0   0   0   0\n",
            "   0   0   0   0   0   0   0   0   0   0   0   0   0   0   0   0   0   0\n",
            "   0   0   0   0   0   0   0   0   0   0]\n",
            "[  1   6  42 824 268 802  17  44   0   0   0   0   0   0   0   0   0   0\n",
            "   0   0   0   0   0   0   0   0   0   0   0   0   0   0   0   0   0   0\n",
            "   0   0   0   0   0   0   0   0   0   0]\n",
            "[32072 48770 52433  3968   464     2   203 47968  2603    29   191   162\n",
            " 13297    30 40085    35   697     0     0     0     0     0     0     0\n",
            "     0     0     0     0     0     0     0     0     0     0     0     0\n",
            "     0     0     0     0     0     0     0     0     0     0]\n",
            "[ 59  29  34  19 747   0   0   0   0   0   0   0   0   0   0   0   0   0\n",
            "   0   0   0   0   0   0   0   0   0   0   0   0   0   0   0   0   0   0\n",
            "   0   0   0   0   0   0   0   0   0   0]\n",
            "[    1 14783    66   817 10163  8923    97     3 10163  3027    21    23\n",
            "  2209     0     0     0     0     0     0     0     0     0     0     0\n",
            "     0     0     0     0     0     0     0     0     0     0     0     0\n",
            "     0     0     0     0     0     0     0     0     0     0]\n",
            "[  6  42  18 138  21  79  21 536  47 425   2 311 459   0   0   0   0   0\n",
            "   0   0   0   0   0   0   0   0   0   0   0   0   0   0   0   0   0   0\n",
            "   0   0   0   0   0   0   0   0   0   0]\n",
            "[    1   895    13 33697   656    23 51608    75 11398  1863    53  1175\n",
            "     0     0     0     0     0     0     0     0     0     0     0     0\n",
            "     0     0     0     0     0     0     0     0     0     0     0     0\n",
            "     0     0     0     0     0     0     0     0     0     0]\n",
            "[17 44  0  0  0  0  0  0  0  0  0  0  0  0  0  0  0  0  0  0  0  0  0  0\n",
            "  0  0  0  0  0  0  0  0  0  0  0  0  0  0  0  0  0  0  0  0  0  0]\n"
          ],
          "name": "stdout"
        }
      ]
    },
    {
      "cell_type": "markdown",
      "metadata": {
        "id": "xtrUhm9ucEkk"
      },
      "source": [
        "# Divisão dos Dados em Treino e Teste"
      ]
    },
    {
      "cell_type": "code",
      "metadata": {
        "id": "5g569iuscIZI"
      },
      "source": [
        "train_X, test_X, train_y, test_y = train_test_split(data_inputs, y, test_size=0.3, stratify = y)\n",
        "#30% para teste e 70% para treinamento"
      ],
      "execution_count": 104,
      "outputs": []
    },
    {
      "cell_type": "code",
      "metadata": {
        "colab": {
          "base_uri": "https://localhost:8080/"
        },
        "id": "sYURFSeAcuWh",
        "outputId": "762b0358-b743-4ad1-bd2e-8a4190c85c8b"
      },
      "source": [
        "[train_X.shape, train_y.shape]"
      ],
      "execution_count": 56,
      "outputs": [
        {
          "output_type": "execute_result",
          "data": {
            "text/plain": [
              "[(168000, 46), (168000,)]"
            ]
          },
          "metadata": {},
          "execution_count": 56
        }
      ]
    },
    {
      "cell_type": "code",
      "metadata": {
        "colab": {
          "base_uri": "https://localhost:8080/"
        },
        "id": "mVAIlvd6c7-1",
        "outputId": "36ff4beb-fc44-45ab-c30f-4c339dd36fd8"
      },
      "source": [
        "[test_X.shape, test_y.shape]"
      ],
      "execution_count": 57,
      "outputs": [
        {
          "output_type": "execute_result",
          "data": {
            "text/plain": [
              "[(72000, 46), (72000,)]"
            ]
          },
          "metadata": {},
          "execution_count": 57
        }
      ]
    },
    {
      "cell_type": "markdown",
      "metadata": {
        "id": "0glEa3YpdFeS"
      },
      "source": [
        "# Construção do Modelo"
      ]
    },
    {
      "cell_type": "code",
      "metadata": {
        "id": "xQCkdaAustnm"
      },
      "source": [
        "class DCNN (tf.keras.Model):\n",
        "  def __init__(self, vocab_size, emb_dim, nb_filters, ffn_units, nb_classes, dropout_rate, training=False, name=\"dcnn\"):\n",
        "    super(DCNN, self).__init__(name=name)\n",
        "\n",
        "    #primeira camada é de embeding\n",
        "    self.embedding = layers.Embedding(vocab_size, emb_dim)\n",
        "    #gerar uma matriz com a quantidade de linhas que o vocabulário tem e 128 colunas\n",
        "    #primeira camada pronta\n",
        "\n",
        "    self.bigram = layers.Conv1D(filters=nb_filters, kernel_size=2, padding='same', activation='relu') #objeto (filtro com 2 linhas)\n",
        "\n",
        "    self.trigram = layers.Conv1D(filters=nb_filters, kernel_size=3, padding='same', activation='relu') #objeto (filtro com 3 linhas)\n",
        "\n",
        "    self.fourgram = layers.Conv1D(filters=nb_filters, kernel_size=4, padding='same', activation='relu') #objeto (filtro com 4 linhas)\n",
        "    #camadas de convolução prontas\n",
        "\n",
        "    #definir uma camada para fazer o pooling\n",
        "    self.pool =  layers.GlobalMaxPool1D()\n",
        "    #porque só vamos usar uma camada de pooling que vai extrair informação de todos os filtros feitos e no fim será feita a concatenação\n",
        "\n",
        "    #definir agora a estrutura da rede neural densa\n",
        "    self.dense_1 = layers.Dense(units = ffn_units, activation = 'relu')  #a primeira camada oculta terá 512 neurônios \n",
        "    self.dropout = layers.Dropout(rate = dropout_rate) #ele vai zerar 10% dos valores da camada oculta para evitar overfiting\n",
        "\n",
        "    #camada de saída\n",
        "    self.last_dense = layers.Dense(units = 1, activation = 'sigmoid')\n",
        "    \n",
        "  #interligar as camadas\n",
        "  def call(self, inputs, training):\n",
        "    x = self.embedding(inputs) #passando os textos para a camada de embeding\n",
        "    x_1 = self.bigram(x) #ligando o X com a camda bigram \n",
        "    x_1 = self.pool(x_1) #ligando o x_1 com a camada de pooling\n",
        "    x_2 = self.trigram(x) #ligando X com a camada trigram \n",
        "    x_2 = self.pool(x_2) #ligando x_2 com a camada de pooling\n",
        "    x_3 = self.fourgram(x) #ligando x com o fourgram\n",
        "    x_3 = self.pool(x_3) #ligando x_4 com a camada de pooling\n",
        "\n",
        "    merged = tf.concat([x_1, x_2, x_3], axis = -1) # (batch_size, 3 * nb_filters)\n",
        "    merged = self.dense_1(merged) #ligando os dados que saem das camadas acima com a primeira camada densa\n",
        "    merged = self.dropout(merged, training)\n",
        "    output = self.last_dense(merged)\n",
        "\n",
        "    return output\n"
      ],
      "execution_count": 58,
      "outputs": []
    },
    {
      "cell_type": "markdown",
      "metadata": {
        "id": "iTw0ZeZOdNSz"
      },
      "source": [
        "## Treinamento"
      ]
    },
    {
      "cell_type": "code",
      "metadata": {
        "id": "Vuo674lFdRVV"
      },
      "source": [
        "vocab_size = tokenizer.vocab_size\n",
        "emb_dim = 200\n",
        "nb_filters = 100 #trabalhar com 100 filtros (300 filtros)\n",
        "ffn_units = 256 #quantidade de neurônios na camada oculta\n",
        "batch_size = 64 #fazer o ajuste dos pesos em 64 e 64 registros\n",
        "nb_classes = 2 #quantidade de classes\n",
        "dropout_rate = 0.2 \n",
        "nb_epochs = 3"
      ],
      "execution_count": 67,
      "outputs": []
    },
    {
      "cell_type": "code",
      "metadata": {
        "id": "PHfDB8a8dUfT"
      },
      "source": [
        "Dcnn = DCNN(vocab_size=vocab_size, emb_dim=emb_dim, nb_filters=nb_filters, ffn_units=ffn_units, nb_classes=nb_classes, dropout_rate=dropout_rate)"
      ],
      "execution_count": 68,
      "outputs": []
    },
    {
      "cell_type": "code",
      "metadata": {
        "id": "W8XS_55JdXie"
      },
      "source": [
        "Dcnn.compile(loss='binary_crossentropy', optimizer='adam', metrics=['accuracy'])"
      ],
      "execution_count": 69,
      "outputs": []
    },
    {
      "cell_type": "code",
      "metadata": {
        "colab": {
          "base_uri": "https://localhost:8080/"
        },
        "id": "a9bv_spedZHH",
        "outputId": "d92e1f21-ec69-4b69-f38a-264952c57872"
      },
      "source": [
        "#treinamento\n",
        "history = Dcnn.fit(train_X, train_y, batch_size = batch_size, epochs = nb_epochs, verbose = 1, validation_split = 0.10)"
      ],
      "execution_count": 71,
      "outputs": [
        {
          "output_type": "stream",
          "text": [
            "Epoch 1/3\n",
            "2363/2363 [==============================] - 467s 198ms/step - loss: 0.1002 - accuracy: 0.9585 - val_loss: 1.0947 - val_accuracy: 0.7412\n",
            "Epoch 2/3\n",
            "2363/2363 [==============================] - 463s 196ms/step - loss: 0.0690 - accuracy: 0.9709 - val_loss: 1.2494 - val_accuracy: 0.7344\n",
            "Epoch 3/3\n",
            "2363/2363 [==============================] - 463s 196ms/step - loss: 0.0544 - accuracy: 0.9772 - val_loss: 1.4256 - val_accuracy: 0.7274\n"
          ],
          "name": "stdout"
        }
      ]
    },
    {
      "cell_type": "markdown",
      "metadata": {
        "id": "gJnmkhuVkf1Y"
      },
      "source": [
        "# Validação do Modelo"
      ]
    },
    {
      "cell_type": "code",
      "metadata": {
        "colab": {
          "base_uri": "https://localhost:8080/"
        },
        "id": "v09xbNefkj_y",
        "outputId": "6f20b2ad-4acd-4184-ab48-d78dcab6f70b"
      },
      "source": [
        "results = Dcnn.evaluate(test_X, test_y, batch_size=batch_size)\n",
        "_, acuracia = results\n",
        "print(acuracia)"
      ],
      "execution_count": 73,
      "outputs": [
        {
          "output_type": "stream",
          "text": [
            "1125/1125 [==============================] - 31s 27ms/step - loss: 1.4174 - accuracy: 0.7263\n",
            "0.7263055443763733\n"
          ],
          "name": "stdout"
        }
      ]
    },
    {
      "cell_type": "code",
      "metadata": {
        "id": "VtzX52kykw8F"
      },
      "source": [
        "y_preditor_test = Dcnn.predict(test_X)"
      ],
      "execution_count": 88,
      "outputs": []
    },
    {
      "cell_type": "code",
      "metadata": {
        "colab": {
          "base_uri": "https://localhost:8080/"
        },
        "id": "ROzigOI7lSh1",
        "outputId": "01cccb6f-4dff-4a40-a233-e2bbcdd8434a"
      },
      "source": [
        "y_preditor_test."
      ],
      "execution_count": 91,
      "outputs": [
        {
          "output_type": "execute_result",
          "data": {
            "text/plain": [
              "array([[0.9839145 ],\n",
              "       [0.5520377 ],\n",
              "       [0.02375257],\n",
              "       ...,\n",
              "       [0.40544277],\n",
              "       [0.99978316],\n",
              "       [0.99985576]], dtype=float32)"
            ]
          },
          "metadata": {},
          "execution_count": 91
        }
      ]
    },
    {
      "cell_type": "code",
      "metadata": {
        "colab": {
          "base_uri": "https://localhost:8080/"
        },
        "id": "de80ae7x4KP5",
        "outputId": "2ce4f9b8-3c10-4709-86d2-93184327410a"
      },
      "source": [
        "y_preditor_test"
      ],
      "execution_count": 82,
      "outputs": [
        {
          "output_type": "execute_result",
          "data": {
            "text/plain": [
              "numpy.ndarray"
            ]
          },
          "metadata": {},
          "execution_count": 82
        }
      ]
    },
    {
      "cell_type": "code",
      "metadata": {
        "colab": {
          "base_uri": "https://localhost:8080/"
        },
        "id": "Gt8iJmAV4F5i",
        "outputId": "afcfabf1-057f-46ee-96fa-9924629b1185"
      },
      "source": [
        "saida_treinamento = (y_preditor_test > 0.5)\n",
        "saida_treinamento"
      ],
      "execution_count": 97,
      "outputs": [
        {
          "output_type": "execute_result",
          "data": {
            "text/plain": [
              "array([[ True],\n",
              "       [ True],\n",
              "       [False],\n",
              "       ...,\n",
              "       [False],\n",
              "       [ True],\n",
              "       [ True]])"
            ]
          },
          "metadata": {},
          "execution_count": 97
        }
      ]
    },
    {
      "cell_type": "code",
      "metadata": {
        "colab": {
          "base_uri": "https://localhost:8080/"
        },
        "id": "OTE3kfGu32_s",
        "outputId": "7a919733-e214-4f76-944e-53378cb99ac5"
      },
      "source": [
        "test_y"
      ],
      "execution_count": 107,
      "outputs": [
        {
          "output_type": "execute_result",
          "data": {
            "text/plain": [
              "1215068    1\n",
              "645086     0\n",
              "1534428    1\n",
              "251667     0\n",
              "549557     0\n",
              "          ..\n",
              "623781     0\n",
              "493712     0\n",
              "806335     1\n",
              "439670     0\n",
              "1266672    1\n",
              "Name: sentiment, Length: 72000, dtype: int64"
            ]
          },
          "metadata": {},
          "execution_count": 107
        }
      ]
    },
    {
      "cell_type": "code",
      "metadata": {
        "colab": {
          "base_uri": "https://localhost:8080/"
        },
        "id": "0BTLh4bd6jQX",
        "outputId": "bc100cb8-8398-4a92-baf5-adafea5b89cb"
      },
      "source": [
        "cm = confusion_matrix(test_y, saida_treinamento)\n",
        "cm\n",
        "#reg da classe 0 classificado como 0 | reg da classe 0 classificado como 1\n",
        "#reg da classe 1 classificado como 1 | reg da classe 1 classificado como 1"
      ],
      "execution_count": 110,
      "outputs": [
        {
          "output_type": "execute_result",
          "data": {
            "text/plain": [
              "array([[16789, 19211],\n",
              "       [16871, 19129]])"
            ]
          },
          "metadata": {},
          "execution_count": 110
        }
      ]
    },
    {
      "cell_type": "code",
      "metadata": {
        "colab": {
          "base_uri": "https://localhost:8080/",
          "height": 610
        },
        "id": "rUAt9l4B6-HF",
        "outputId": "01396ed0-4b2e-4cfa-b60c-c0d302b1fec1"
      },
      "source": [
        "fig, ax = plt.subplots(figsize=(15, 10))\n",
        "sns.heatmap(cm, annot=True)\n",
        "\n",
        "#linha vestical: classe\n",
        "#linha horizontal: como foi classificado\n",
        "\n",
        "#classe 0 classificado como 0, classe 0 classificado como 1\n",
        "#classe 1 classificado como 0, classe 1 classificado como 1"
      ],
      "execution_count": 112,
      "outputs": [
        {
          "output_type": "execute_result",
          "data": {
            "text/plain": [
              "<matplotlib.axes._subplots.AxesSubplot at 0x7f53b7a872d0>"
            ]
          },
          "metadata": {},
          "execution_count": 112
        },
        {
          "output_type": "display_data",
          "data": {
            "image/png": "[encoded data removed]",
            "text/plain": [
              "<Figure size 1080x720 with 2 Axes>"
            ]
          },
          "metadata": {
            "needs_background": "light"
          }
        }
      ]
    },
    {
      "cell_type": "code",
      "metadata": {
        "colab": {
          "base_uri": "https://localhost:8080/"
        },
        "id": "Vu5Yzxs26ukJ",
        "outputId": "04255372-b4ae-459b-f13e-8f0eeccb5626"
      },
      "source": [
        "text = 'i love you'\n",
        "text = tokenizer.encode(text)\n",
        "prob = Dcnn(np.array([text]), training=False).numpy()\n",
        "\n",
        "if prob > 0.5:\n",
        "  print(\"sentimento positivo. saida:\", prob)\n",
        "else:\n",
        "  print(\"sentimento negativo. saida:\", prob)"
      ],
      "execution_count": 139,
      "outputs": [
        {
          "output_type": "stream",
          "text": [
            "sentimento positivo. saida: [[0.9999982]]\n"
          ],
          "name": "stdout"
        }
      ]
    }
  ]
}