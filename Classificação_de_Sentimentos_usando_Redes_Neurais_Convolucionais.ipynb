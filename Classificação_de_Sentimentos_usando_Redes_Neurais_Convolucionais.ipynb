{
  "nbformat": 4,
  "nbformat_minor": 0,
  "metadata": {
    "colab": {
      "name": "Classificação de Sentimentos usando Redes Neurais Convolucionais.ipynb",
      "provenance": [],
      "collapsed_sections": []
    },
    "kernelspec": {
      "name": "python3",
      "display_name": "Python 3"
    },
    "language_info": {
      "name": "python"
    }
  },
  "cells": [
    {
      "cell_type": "markdown",
      "metadata": {
        "id": "49Br2LFO9KSe"
      },
      "source": [
        "#Etapa 1: Importação das bibliotecas"
      ]
    },
    {
      "cell_type": "code",
      "metadata": {
        "id": "utGe4WNs9zBu"
      },
      "source": [
        "import numpy as np              #lib cienfífica do python\n",
        "import math                     #para ter-mos acesso a recursosd e calculos matemáticos\n",
        "import re                       #porque vamos trabalhar com expressões regulares\n",
        "import pandas as pd             #para carregar a base de dados\n",
        "from bs4 import BeautifulSoup   #é usada pra se fazer preprocessamento em textos\n",
        "from google.colab import drive  #para termos acesso de recursos do google drive\n",
        "import zipfile                  #para poder descompactar arquivos .zip\n",
        "import seaborn as sns           #para visualização de gráficos\n",
        "import spacy as sp              #é uma lib de processamento de linguagem natural que será usada para fazer o preprocessamento em alguns textos\n",
        "import string                   #vai ser usada para o pré processamento dos textos\n",
        "import random                   #para números aleatórios\n",
        "import matplotlib.pyplot as plt #usada para gerar gráficos\n",
        "from sklearn.model_selection import train_test_split"
      ],
      "execution_count": 34,
      "outputs": []
    },
    {
      "cell_type": "code",
      "metadata": {
        "colab": {
          "base_uri": "https://localhost:8080/",
          "height": 35
        },
        "id": "Ioi6oLT0AfkH",
        "outputId": "d4448e0c-f3a1-4364-b0b1-7d08d17893e8"
      },
      "source": [
        "%tensorflow_version 2.x\n",
        "import tensorflow as tf\n",
        "tf.__version__"
      ],
      "execution_count": 2,
      "outputs": [
        {
          "output_type": "execute_result",
          "data": {
            "application/vnd.google.colaboratory.intrinsic+json": {
              "type": "string"
            },
            "text/plain": [
              "'2.6.0'"
            ]
          },
          "metadata": {},
          "execution_count": 2
        }
      ]
    },
    {
      "cell_type": "code",
      "metadata": {
        "id": "QkWYJ4PtBEkO"
      },
      "source": [
        "from tensorflow.keras import layers   #para ter-mos acesso as camadas\n",
        "import tensorflow_datasets as tfds    "
      ],
      "execution_count": 3,
      "outputs": []
    },
    {
      "cell_type": "markdown",
      "metadata": {
        "id": "kDCkFybfLqCo"
      },
      "source": [
        "# **Etapa 2: Pré-processamento dos dos dados**"
      ]
    },
    {
      "cell_type": "markdown",
      "metadata": {
        "id": "VAG67oc_MlNA"
      },
      "source": [
        "## **Carregamento Dos Arquivos**"
      ]
    },
    {
      "cell_type": "code",
      "metadata": {
        "colab": {
          "base_uri": "https://localhost:8080/"
        },
        "id": "u0jVs5jEMsYY",
        "outputId": "2d5f0718-33d3-4952-f435-ceb550071780"
      },
      "source": [
        "drive.mount(\"/content/drive\")"
      ],
      "execution_count": 6,
      "outputs": [
        {
          "output_type": "stream",
          "text": [
            "Drive already mounted at /content/drive; to attempt to forcibly remount, call drive.mount(\"/content/drive\", force_remount=True).\n"
          ],
          "name": "stdout"
        }
      ]
    },
    {
      "cell_type": "code",
      "metadata": {
        "id": "EUDnf-keQe03"
      },
      "source": [
        "path = '/content/drive/MyDrive/Database/trainingandtestdata.zip'\n",
        "zip_object = zipfile.ZipFile(file = path, mode='r') #r pq será feito uma leitura\n",
        "zip_object.extractall('./')\n",
        "zip_object.close()"
      ],
      "execution_count": 7,
      "outputs": []
    },
    {
      "cell_type": "code",
      "metadata": {
        "id": "mtX8BPwTSnzW"
      },
      "source": [
        "cols = ['sentiment', 'id', 'date', 'query', 'user', 'text']"
      ],
      "execution_count": 8,
      "outputs": []
    },
    {
      "cell_type": "code",
      "metadata": {
        "id": "m3laFsPQTEk5"
      },
      "source": [
        "train_data = pd.read_csv('/content/trainingandtestdata/train.csv', header= None, names= cols, engine='python', encoding='latin1')"
      ],
      "execution_count": 9,
      "outputs": []
    },
    {
      "cell_type": "markdown",
      "metadata": {
        "id": "7RPpy9t6So-o"
      },
      "source": [
        ""
      ]
    },
    {
      "cell_type": "code",
      "metadata": {
        "colab": {
          "base_uri": "https://localhost:8080/",
          "height": 333
        },
        "id": "xXyfENk0M5NI",
        "outputId": "ac65ae98-1a24-41b5-879d-df3da739ab09"
      },
      "source": [
        "sns.countplot(train_data.sentiment);"
      ],
      "execution_count": 12,
      "outputs": [
        {
          "output_type": "stream",
          "text": [
            "/usr/local/lib/python3.7/dist-packages/seaborn/_decorators.py:43: FutureWarning: Pass the following variable as a keyword arg: x. From version 0.12, the only valid positional argument will be `data`, and passing other arguments without an explicit keyword will result in an error or misinterpretation.\n",
            "  FutureWarning\n"
          ],
          "name": "stderr"
        },
        {
          "output_type": "display_data",
          "data": {
            "image/png": "[encoded data removed]",
            "text/plain": [
              "<Figure size 432x288 with 1 Axes>"
            ]
          },
          "metadata": {
            "needs_background": "light"
          }
        }
      ]
    },
    {
      "cell_type": "code",
      "metadata": {
        "id": "UGr7zp1JPYV4"
      },
      "source": [
        "test_data = pd.read_csv(\"/content/trainingandtestdata/test.csv\", header=None, names=cols, engine=\"python\", encoding=\"latin1\")"
      ],
      "execution_count": 13,
      "outputs": []
    },
    {
      "cell_type": "code",
      "metadata": {
        "colab": {
          "base_uri": "https://localhost:8080/",
          "height": 333
        },
        "id": "QdLfpcDtQOyh",
        "outputId": "b98830ed-5972-41a9-d71b-2d9c5d85b490"
      },
      "source": [
        "sns.countplot(test_data.sentiment);"
      ],
      "execution_count": 14,
      "outputs": [
        {
          "output_type": "stream",
          "text": [
            "/usr/local/lib/python3.7/dist-packages/seaborn/_decorators.py:43: FutureWarning: Pass the following variable as a keyword arg: x. From version 0.12, the only valid positional argument will be `data`, and passing other arguments without an explicit keyword will result in an error or misinterpretation.\n",
            "  FutureWarning\n"
          ],
          "name": "stderr"
        },
        {
          "output_type": "display_data",
          "data": {
            "image/png": "[encoded data removed]",
            "text/plain": [
              "<Figure size 432x288 with 1 Axes>"
            ]
          },
          "metadata": {
            "needs_background": "light"
          }
        }
      ]
    },
    {
      "cell_type": "markdown",
      "metadata": {
        "id": "xF1lUqMPQYio"
      },
      "source": [
        "## **Limpeza**"
      ]
    },
    {
      "cell_type": "code",
      "metadata": {
        "id": "iruXqjA8Qhf3"
      },
      "source": [
        "data = train_data #para trabalhar com essa variável"
      ],
      "execution_count": 15,
      "outputs": []
    },
    {
      "cell_type": "code",
      "metadata": {
        "id": "G6xhFqBRQ9hy"
      },
      "source": [
        "data.drop(['id', 'date', 'query', 'user'], axis=1, inplace=True);"
      ],
      "execution_count": 16,
      "outputs": []
    },
    {
      "cell_type": "code",
      "metadata": {
        "colab": {
          "base_uri": "https://localhost:8080/",
          "height": 204
        },
        "id": "m-DTVqU5SPo8",
        "outputId": "3389af7a-605e-4039-f2e9-cd1b9f047f25"
      },
      "source": [
        "data.head()"
      ],
      "execution_count": 17,
      "outputs": [
        {
          "output_type": "execute_result",
          "data": {
            "text/html": [
              "<div>\n",
              "<style scoped>\n",
              "    .dataframe tbody tr th:only-of-type {\n",
              "        vertical-align: middle;\n",
              "    }\n",
              "\n",
              "    .dataframe tbody tr th {\n",
              "        vertical-align: top;\n",
              "    }\n",
              "\n",
              "    .dataframe thead th {\n",
              "        text-align: right;\n",
              "    }\n",
              "</style>\n",
              "<table border=\"1\" class=\"dataframe\">\n",
              "  <thead>\n",
              "    <tr style=\"text-align: right;\">\n",
              "      <th></th>\n",
              "      <th>sentiment</th>\n",
              "      <th>text</th>\n",
              "    </tr>\n",
              "  </thead>\n",
              "  <tbody>\n",
              "    <tr>\n",
              "      <th>0</th>\n",
              "      <td>0</td>\n",
              "      <td>@switchfoot http://twitpic.com/2y1zl - Awww, t...</td>\n",
              "    </tr>\n",
              "    <tr>\n",
              "      <th>1</th>\n",
              "      <td>0</td>\n",
              "      <td>is upset that he can't update his Facebook by ...</td>\n",
              "    </tr>\n",
              "    <tr>\n",
              "      <th>2</th>\n",
              "      <td>0</td>\n",
              "      <td>@Kenichan I dived many times for the ball. Man...</td>\n",
              "    </tr>\n",
              "    <tr>\n",
              "      <th>3</th>\n",
              "      <td>0</td>\n",
              "      <td>my whole body feels itchy and like its on fire</td>\n",
              "    </tr>\n",
              "    <tr>\n",
              "      <th>4</th>\n",
              "      <td>0</td>\n",
              "      <td>@nationwideclass no, it's not behaving at all....</td>\n",
              "    </tr>\n",
              "  </tbody>\n",
              "</table>\n",
              "</div>"
            ],
            "text/plain": [
              "   sentiment                                               text\n",
              "0          0  @switchfoot http://twitpic.com/2y1zl - Awww, t...\n",
              "1          0  is upset that he can't update his Facebook by ...\n",
              "2          0  @Kenichan I dived many times for the ball. Man...\n",
              "3          0    my whole body feels itchy and like its on fire \n",
              "4          0  @nationwideclass no, it's not behaving at all...."
            ]
          },
          "metadata": {},
          "execution_count": 17
        }
      ]
    },
    {
      "cell_type": "code",
      "metadata": {
        "id": "eUtSr2YHSUhJ"
      },
      "source": [
        "X = data.iloc[:, 1].values"
      ],
      "execution_count": 41,
      "outputs": []
    },
    {
      "cell_type": "code",
      "metadata": {
        "colab": {
          "base_uri": "https://localhost:8080/"
        },
        "id": "B7Cw99RbSm89",
        "outputId": "2bdc6e96-f9cc-4560-a1f9-edfa9f4cea7c"
      },
      "source": [
        "X.shape\n",
        "type(X)"
      ],
      "execution_count": 28,
      "outputs": [
        {
          "output_type": "execute_result",
          "data": {
            "text/plain": [
              "numpy.ndarray"
            ]
          },
          "metadata": {},
          "execution_count": 28
        }
      ]
    },
    {
      "cell_type": "code",
      "metadata": {
        "id": "AM4oZeHATJFJ"
      },
      "source": [
        "y = data.iloc[:, 0].values"
      ],
      "execution_count": 42,
      "outputs": []
    },
    {
      "cell_type": "code",
      "metadata": {
        "colab": {
          "base_uri": "https://localhost:8080/"
        },
        "id": "k_-oWK-7Tcr5",
        "outputId": "b4989176-b7cb-40f3-f154-88f2f9947e32"
      },
      "source": [
        "X.shape\n",
        "y"
      ],
      "execution_count": 33,
      "outputs": [
        {
          "output_type": "execute_result",
          "data": {
            "text/plain": [
              "array([0, 0, 0, ..., 4, 4, 4])"
            ]
          },
          "metadata": {},
          "execution_count": 33
        }
      ]
    },
    {
      "cell_type": "code",
      "metadata": {
        "id": "6azVRYufUbJU"
      },
      "source": [
        "X, _, y, _ = train_test_split(X, y, test_size = 0.85, stratify = y) #vamos returar 85% da base de dados. X e y representam a porção de treinamento e _ e _ a porção de teste.\n",
        "#esse estratify vai fazer com que seja dividido de forma igual as classes, não fique mais demais de um lado e menos no outro"
      ],
      "execution_count": 44,
      "outputs": []
    },
    {
      "cell_type": "code",
      "metadata": {
        "colab": {
          "base_uri": "https://localhost:8080/"
        },
        "id": "4qZUhmwEVe6H",
        "outputId": "87be9679-bb06-47bc-d509-4e6c6afb7640"
      },
      "source": [
        "X.shape"
      ],
      "execution_count": 45,
      "outputs": [
        {
          "output_type": "execute_result",
          "data": {
            "text/plain": [
              "(240000,)"
            ]
          },
          "metadata": {},
          "execution_count": 45
        }
      ]
    },
    {
      "cell_type": "code",
      "metadata": {
        "colab": {
          "base_uri": "https://localhost:8080/"
        },
        "id": "kyHgk5vSVkEC",
        "outputId": "d389f214-875e-47b0-9ea4-ada5b19a8b59"
      },
      "source": [
        "y.shape"
      ],
      "execution_count": 47,
      "outputs": [
        {
          "output_type": "execute_result",
          "data": {
            "text/plain": [
              "(240000,)"
            ]
          },
          "metadata": {},
          "execution_count": 47
        }
      ]
    },
    {
      "cell_type": "code",
      "metadata": {
        "colab": {
          "base_uri": "https://localhost:8080/"
        },
        "id": "kNjSUjaCV2BP",
        "outputId": "8b5b8757-496d-419d-f098-6c7b7a02bfa0"
      },
      "source": [
        "unique, counts = np.unique(y, return_counts= True)\n",
        "unique, counts"
      ],
      "execution_count": 48,
      "outputs": [
        {
          "output_type": "execute_result",
          "data": {
            "text/plain": [
              "(array([0, 4]), array([120000, 120000]))"
            ]
          },
          "metadata": {},
          "execution_count": 48
        }
      ]
    },
    {
      "cell_type": "code",
      "metadata": {
        "id": "anDRtjFwWEes"
      },
      "source": [
        ""
      ],
      "execution_count": null,
      "outputs": []
    }
  ]
}