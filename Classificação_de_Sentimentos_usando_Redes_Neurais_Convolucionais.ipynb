{
  "nbformat": 4,
  "nbformat_minor": 0,
  "metadata": {
    "colab": {
      "name": "Classificação de Sentimentos usando Redes Neurais Convolucionais.ipynb",
      "provenance": [],
      "collapsed_sections": [],
      "authorship_tag": "ABX9TyPRjMpR9zm/NKu0XreBTsiW"
    },
    "kernelspec": {
      "name": "python3",
      "display_name": "Python 3"
    },
    "language_info": {
      "name": "python"
    }
  },
  "cells": [
    {
      "cell_type": "markdown",
      "metadata": {
        "id": "49Br2LFO9KSe"
      },
      "source": [
        "#Etapa 1: Importação das bibliotecas"
      ]
    },
    {
      "cell_type": "code",
      "metadata": {
        "id": "utGe4WNs9zBu"
      },
      "source": [
        "import numpy as np              #lib cienfífica do python\n",
        "import math                     #para ter-mos acesso a recursosd e calculos matemáticos\n",
        "import re                       #porque vamos trabalhar com expressões regulares\n",
        "import pandas as pd             #para carregar a base de dados\n",
        "from bs4 import BeautifulSoup   #é usada pra se fazer preprocessamento em textos\n",
        "from google.colab import drive  #para termos acesso de recursos do google drive\n",
        "import zipfile                  #para poder descompactar arquivos .zip\n",
        "import seaborn as sns           #para visualização de gráficos\n",
        "import spacy as sp              #é uma lib de processamento de linguagem natural que será usada para fazer o preprocessamento em alguns textos\n",
        "import string                   #vai ser usada para o pré processamento dos textos\n",
        "import random                   #para números aleatórios\n",
        "import matplotlib.pyplot as plt #usada para gerar gráficos"
      ],
      "execution_count": 17,
      "outputs": []
    },
    {
      "cell_type": "code",
      "metadata": {
        "colab": {
          "base_uri": "https://localhost:8080/",
          "height": 35
        },
        "id": "Ioi6oLT0AfkH",
        "outputId": "188add97-148a-43ad-bd1e-df53d196e053"
      },
      "source": [
        "%tensorflow_version 2.x\n",
        "import tensorflow as tf\n",
        "tf.__version__"
      ],
      "execution_count": 3,
      "outputs": [
        {
          "output_type": "execute_result",
          "data": {
            "application/vnd.google.colaboratory.intrinsic+json": {
              "type": "string"
            },
            "text/plain": [
              "'2.6.0'"
            ]
          },
          "metadata": {},
          "execution_count": 3
        }
      ]
    },
    {
      "cell_type": "code",
      "metadata": {
        "id": "QkWYJ4PtBEkO"
      },
      "source": [
        "from tensorflow.keras import layers   #para ter-mos acesso as camadas\n",
        "import tensorflow_datasets as tfds    "
      ],
      "execution_count": 4,
      "outputs": []
    },
    {
      "cell_type": "markdown",
      "metadata": {
        "id": "kDCkFybfLqCo"
      },
      "source": [
        "# **Etapa 2: Pré-processamento dos dos dados**"
      ]
    },
    {
      "cell_type": "markdown",
      "metadata": {
        "id": "VAG67oc_MlNA"
      },
      "source": [
        "## **Carregamento Dos Arquivos**"
      ]
    },
    {
      "cell_type": "code",
      "metadata": {
        "colab": {
          "base_uri": "https://localhost:8080/"
        },
        "id": "u0jVs5jEMsYY",
        "outputId": "6555d1ea-657b-4f43-c8e2-50e0ffed571d"
      },
      "source": [
        "drive.mount(\"/content/drive\")"
      ],
      "execution_count": 5,
      "outputs": [
        {
          "output_type": "stream",
          "text": [
            "Mounted at /content/drive\n"
          ],
          "name": "stdout"
        }
      ]
    },
    {
      "cell_type": "code",
      "metadata": {
        "id": "EUDnf-keQe03"
      },
      "source": [
        "path = '/content/drive/MyDrive/trainingandtestdata.zip'\n",
        "zip_object = zipfile.ZipFile(file = path, mode='r') #r pq será feito uma leitura\n",
        "zip_object.extractall('./')\n",
        "zip_object.close()"
      ],
      "execution_count": 7,
      "outputs": []
    },
    {
      "cell_type": "code",
      "metadata": {
        "id": "mtX8BPwTSnzW"
      },
      "source": [
        "cols = ['sentiment', 'id', 'date', 'query', 'user', 'text']"
      ],
      "execution_count": 9,
      "outputs": []
    },
    {
      "cell_type": "code",
      "metadata": {
        "id": "m3laFsPQTEk5"
      },
      "source": [
        "train_data = pd.read_csv('/content/trainingandtestdata/train.csv', header= None, names= cols, engine='python', encoding='latin1')"
      ],
      "execution_count": 10,
      "outputs": []
    },
    {
      "cell_type": "markdown",
      "metadata": {
        "id": "7RPpy9t6So-o"
      },
      "source": [
        ""
      ]
    }
  ]
}