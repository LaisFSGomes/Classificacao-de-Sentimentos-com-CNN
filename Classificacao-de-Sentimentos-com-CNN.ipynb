{
  "nbformat": 4,
  "nbformat_minor": 0,
  "metadata": {
    "colab": {
      "name": "CLASSIFICACAO DE SENTIMENTOS.ipynb",
      "provenance": [],
      "collapsed_sections": [],
      "authorship_tag": "ABX9TyMjgRPmMVQ2rxOW2FmHYuNG"
    },
    "kernelspec": {
      "display_name": "Python 3",
      "name": "python3"
    },
    "language_info": {
      "name": "python"
    },
    "accelerator": "TPU"
  },
  "cells": [
    {
      "cell_type": "markdown",
      "metadata": {
        "id": "FzXwaqeWJ867"
      },
      "source": [
        "# Importação das Bibliotecas"
      ]
    },
    {
      "cell_type": "code",
      "metadata": {
        "id": "CTx-3xH0J53p"
      },
      "source": [
        "import numpy as np              #lib cienfífica do python\n",
        "import math                     #para ter-mos acesso a recursosd e calculos matemáticos\n",
        "import re                       #porque vamos trabalhar com expressões regulares\n",
        "import pandas as pd             #para carregar a base de dados\n",
        "from bs4 import BeautifulSoup   #é usada pra se fazer preprocessamento em textos\n",
        "from google.colab import drive  #para termos acesso de recursos do google drive\n",
        "import zipfile                  #para poder descompactar arquivos .zip\n",
        "import seaborn as sns           #para visualização de gráficos\n",
        "import spacy as sp              #é uma lib de processamento de linguagem natural que será usada para fazer o preprocessamento em alguns textos\n",
        "import string                   #vai ser usada para o pré processamento dos textos\n",
        "import random                   #para números aleatórios\n",
        "import matplotlib.pyplot as plt #usada para gerar gráficos\n",
        "from sklearn.model_selection import train_test_split\n",
        "from sklearn.metrics import confusion_matrix\n",
        "%tensorflow_version 2.x\n",
        "import tensorflow as tf\n",
        "from tensorflow.keras import layers   #para ter-mos acesso as camadas\n",
        "import tensorflow_datasets as tfds   "
      ],
      "execution_count": 2,
      "outputs": []
    },
    {
      "cell_type": "markdown",
      "metadata": {
        "id": "PuSEUfCMKOSh"
      },
      "source": [
        "# Pré-Processamento"
      ]
    },
    {
      "cell_type": "code",
      "metadata": {
        "colab": {
          "base_uri": "https://localhost:8080/"
        },
        "id": "9IjtXNRPKSju",
        "outputId": "0fdf3ad2-4b90-43b6-d306-29374c97fcf0"
      },
      "source": [
        "drive.mount(\"/content/drive\")"
      ],
      "execution_count": 3,
      "outputs": [
        {
          "output_type": "stream",
          "name": "stdout",
          "text": [
            "Mounted at /content/drive\n"
          ]
        }
      ]
    },
    {
      "cell_type": "code",
      "metadata": {
        "id": "qqJMy3p3KxAx"
      },
      "source": [
        "cols = ['sentiment', 'id', 'date', 'query', 'user', 'text']"
      ],
      "execution_count": 4,
      "outputs": []
    },
    {
      "cell_type": "code",
      "metadata": {
        "id": "1r2lxvl8KWoO"
      },
      "source": [
        "dataset = pd.read_csv('/content/drive/MyDrive/Database/tweets.csv', header= None, names= cols, engine='python', encoding='latin1')"
      ],
      "execution_count": 5,
      "outputs": []
    },
    {
      "cell_type": "code",
      "metadata": {
        "colab": {
          "base_uri": "https://localhost:8080/",
          "height": 352
        },
        "id": "KJNBZWDSLAMB",
        "outputId": "726642f0-931f-478f-ae35-f9dac805e8f5"
      },
      "source": [
        "sns.countplot(dataset.sentiment)"
      ],
      "execution_count": 6,
      "outputs": [
        {
          "output_type": "stream",
          "name": "stderr",
          "text": [
            "/usr/local/lib/python3.7/dist-packages/seaborn/_decorators.py:43: FutureWarning: Pass the following variable as a keyword arg: x. From version 0.12, the only valid positional argument will be `data`, and passing other arguments without an explicit keyword will result in an error or misinterpretation.\n",
            "  FutureWarning\n"
          ]
        },
        {
          "output_type": "execute_result",
          "data": {
            "text/plain": [
              "<matplotlib.axes._subplots.AxesSubplot at 0x7f245fb00950>"
            ]
          },
          "metadata": {},
          "execution_count": 6
        },
        {
          "output_type": "display_data",
          "data": {
            "image/png": "[encoded data removed]",
            "text/plain": [
              "<Figure size 432x288 with 1 Axes>"
            ]
          },
          "metadata": {
            "needs_background": "light"
          }
        }
      ]
    },
    {
      "cell_type": "code",
      "metadata": {
        "colab": {
          "base_uri": "https://localhost:8080/",
          "height": 204
        },
        "id": "8-JcFz0yLGFj",
        "outputId": "bf50acca-426b-492a-a77f-a40e091d34f0"
      },
      "source": [
        "dataset.head()"
      ],
      "execution_count": 7,
      "outputs": [
        {
          "output_type": "execute_result",
          "data": {
            "text/html": [
              "<div>\n",
              "<style scoped>\n",
              "    .dataframe tbody tr th:only-of-type {\n",
              "        vertical-align: middle;\n",
              "    }\n",
              "\n",
              "    .dataframe tbody tr th {\n",
              "        vertical-align: top;\n",
              "    }\n",
              "\n",
              "    .dataframe thead th {\n",
              "        text-align: right;\n",
              "    }\n",
              "</style>\n",
              "<table border=\"1\" class=\"dataframe\">\n",
              "  <thead>\n",
              "    <tr style=\"text-align: right;\">\n",
              "      <th></th>\n",
              "      <th>sentiment</th>\n",
              "      <th>id</th>\n",
              "      <th>date</th>\n",
              "      <th>query</th>\n",
              "      <th>user</th>\n",
              "      <th>text</th>\n",
              "    </tr>\n",
              "  </thead>\n",
              "  <tbody>\n",
              "    <tr>\n",
              "      <th>0</th>\n",
              "      <td>0</td>\n",
              "      <td>1467810369</td>\n",
              "      <td>Mon Apr 06 22:19:45 PDT 2009</td>\n",
              "      <td>NO_QUERY</td>\n",
              "      <td>_TheSpecialOne_</td>\n",
              "      <td>@switchfoot http://twitpic.com/2y1zl - Awww, t...</td>\n",
              "    </tr>\n",
              "    <tr>\n",
              "      <th>1</th>\n",
              "      <td>0</td>\n",
              "      <td>1467810672</td>\n",
              "      <td>Mon Apr 06 22:19:49 PDT 2009</td>\n",
              "      <td>NO_QUERY</td>\n",
              "      <td>scotthamilton</td>\n",
              "      <td>is upset that he can't update his Facebook by ...</td>\n",
              "    </tr>\n",
              "    <tr>\n",
              "      <th>2</th>\n",
              "      <td>0</td>\n",
              "      <td>1467810917</td>\n",
              "      <td>Mon Apr 06 22:19:53 PDT 2009</td>\n",
              "      <td>NO_QUERY</td>\n",
              "      <td>mattycus</td>\n",
              "      <td>@Kenichan I dived many times for the ball. Man...</td>\n",
              "    </tr>\n",
              "    <tr>\n",
              "      <th>3</th>\n",
              "      <td>0</td>\n",
              "      <td>1467811184</td>\n",
              "      <td>Mon Apr 06 22:19:57 PDT 2009</td>\n",
              "      <td>NO_QUERY</td>\n",
              "      <td>ElleCTF</td>\n",
              "      <td>my whole body feels itchy and like its on fire</td>\n",
              "    </tr>\n",
              "    <tr>\n",
              "      <th>4</th>\n",
              "      <td>0</td>\n",
              "      <td>1467811193</td>\n",
              "      <td>Mon Apr 06 22:19:57 PDT 2009</td>\n",
              "      <td>NO_QUERY</td>\n",
              "      <td>Karoli</td>\n",
              "      <td>@nationwideclass no, it's not behaving at all....</td>\n",
              "    </tr>\n",
              "  </tbody>\n",
              "</table>\n",
              "</div>"
            ],
            "text/plain": [
              "   sentiment  ...                                               text\n",
              "0          0  ...  @switchfoot http://twitpic.com/2y1zl - Awww, t...\n",
              "1          0  ...  is upset that he can't update his Facebook by ...\n",
              "2          0  ...  @Kenichan I dived many times for the ball. Man...\n",
              "3          0  ...    my whole body feels itchy and like its on fire \n",
              "4          0  ...  @nationwideclass no, it's not behaving at all....\n",
              "\n",
              "[5 rows x 6 columns]"
            ]
          },
          "metadata": {},
          "execution_count": 7
        }
      ]
    },
    {
      "cell_type": "code",
      "metadata": {
        "id": "zHkQNYPmLLB1"
      },
      "source": [
        "dataset.drop(['id', 'date', 'query', 'user'], axis=1, inplace=True);"
      ],
      "execution_count": 8,
      "outputs": []
    },
    {
      "cell_type": "code",
      "metadata": {
        "colab": {
          "base_uri": "https://localhost:8080/",
          "height": 204
        },
        "id": "tmEXxGkHMFzk",
        "outputId": "391507aa-d01b-4f85-b20b-695aa1d3ce25"
      },
      "source": [
        "dataset.head()"
      ],
      "execution_count": 9,
      "outputs": [
        {
          "output_type": "execute_result",
          "data": {
            "text/html": [
              "<div>\n",
              "<style scoped>\n",
              "    .dataframe tbody tr th:only-of-type {\n",
              "        vertical-align: middle;\n",
              "    }\n",
              "\n",
              "    .dataframe tbody tr th {\n",
              "        vertical-align: top;\n",
              "    }\n",
              "\n",
              "    .dataframe thead th {\n",
              "        text-align: right;\n",
              "    }\n",
              "</style>\n",
              "<table border=\"1\" class=\"dataframe\">\n",
              "  <thead>\n",
              "    <tr style=\"text-align: right;\">\n",
              "      <th></th>\n",
              "      <th>sentiment</th>\n",
              "      <th>text</th>\n",
              "    </tr>\n",
              "  </thead>\n",
              "  <tbody>\n",
              "    <tr>\n",
              "      <th>0</th>\n",
              "      <td>0</td>\n",
              "      <td>@switchfoot http://twitpic.com/2y1zl - Awww, t...</td>\n",
              "    </tr>\n",
              "    <tr>\n",
              "      <th>1</th>\n",
              "      <td>0</td>\n",
              "      <td>is upset that he can't update his Facebook by ...</td>\n",
              "    </tr>\n",
              "    <tr>\n",
              "      <th>2</th>\n",
              "      <td>0</td>\n",
              "      <td>@Kenichan I dived many times for the ball. Man...</td>\n",
              "    </tr>\n",
              "    <tr>\n",
              "      <th>3</th>\n",
              "      <td>0</td>\n",
              "      <td>my whole body feels itchy and like its on fire</td>\n",
              "    </tr>\n",
              "    <tr>\n",
              "      <th>4</th>\n",
              "      <td>0</td>\n",
              "      <td>@nationwideclass no, it's not behaving at all....</td>\n",
              "    </tr>\n",
              "  </tbody>\n",
              "</table>\n",
              "</div>"
            ],
            "text/plain": [
              "   sentiment                                               text\n",
              "0          0  @switchfoot http://twitpic.com/2y1zl - Awww, t...\n",
              "1          0  is upset that he can't update his Facebook by ...\n",
              "2          0  @Kenichan I dived many times for the ball. Man...\n",
              "3          0    my whole body feels itchy and like its on fire \n",
              "4          0  @nationwideclass no, it's not behaving at all...."
            ]
          },
          "metadata": {},
          "execution_count": 9
        }
      ]
    },
    {
      "cell_type": "code",
      "metadata": {
        "colab": {
          "base_uri": "https://localhost:8080/"
        },
        "id": "exwtp--nMIAf",
        "outputId": "e6abfc9c-51d4-4f65-ad04-370c97fa14e5"
      },
      "source": [
        "y = dataset.iloc[:, 0]\n",
        "X = dataset.iloc[:, 1]\n",
        "[X.shape, y.shape]"
      ],
      "execution_count": 10,
      "outputs": [
        {
          "output_type": "execute_result",
          "data": {
            "text/plain": [
              "[(1600000,), (1600000,)]"
            ]
          },
          "metadata": {},
          "execution_count": 10
        }
      ]
    },
    {
      "cell_type": "code",
      "metadata": {
        "id": "iiN2-6beMaGI"
      },
      "source": [
        "X, _, y, _ = train_test_split(X, y, test_size = 0.85, stratify = y) #reduzindo os dados que serão usados "
      ],
      "execution_count": 11,
      "outputs": []
    },
    {
      "cell_type": "code",
      "metadata": {
        "id": "VsqIG1xjMir_",
        "colab": {
          "base_uri": "https://localhost:8080/"
        },
        "outputId": "80e8e705-e43b-4514-af1a-72afd97b3d0f"
      },
      "source": [
        "[X.shape, y.shape]"
      ],
      "execution_count": 12,
      "outputs": [
        {
          "output_type": "execute_result",
          "data": {
            "text/plain": [
              "[(240000,), (240000,)]"
            ]
          },
          "metadata": {},
          "execution_count": 12
        }
      ]
    },
    {
      "cell_type": "code",
      "metadata": {
        "id": "LvYZ6S3nMlLF",
        "colab": {
          "base_uri": "https://localhost:8080/"
        },
        "outputId": "03fd1efa-9224-4c7a-873c-a5eee30c7dc5"
      },
      "source": [
        "sentimento, quantidade = np.unique(y, return_counts=True)\n",
        "[sentimento, quantidade]"
      ],
      "execution_count": 13,
      "outputs": [
        {
          "output_type": "execute_result",
          "data": {
            "text/plain": [
              "[array([0, 4]), array([120000, 120000])]"
            ]
          },
          "metadata": {},
          "execution_count": 13
        }
      ]
    },
    {
      "cell_type": "code",
      "metadata": {
        "id": "69xs4WvpM16A"
      },
      "source": [
        "y[y == 4] = 1"
      ],
      "execution_count": 14,
      "outputs": []
    },
    {
      "cell_type": "code",
      "metadata": {
        "id": "I0-SYoS8M5ay",
        "colab": {
          "base_uri": "https://localhost:8080/"
        },
        "outputId": "f2afd253-b7ed-4036-9115-e5510659f1ac"
      },
      "source": [
        "sentimento, quantidade = np.unique(y, return_counts=True)\n",
        "[sentimento, quantidade]"
      ],
      "execution_count": 15,
      "outputs": [
        {
          "output_type": "execute_result",
          "data": {
            "text/plain": [
              "[array([0, 1]), array([120000, 120000])]"
            ]
          },
          "metadata": {},
          "execution_count": 15
        }
      ]
    },
    {
      "cell_type": "code",
      "metadata": {
        "id": "3hBAl2tIMzUq"
      },
      "source": [
        "nlp = sp.load('en')\n",
        "stop_words = sp.lang.en.STOP_WORDS #lista das palavras que podem ser removidas\n"
      ],
      "execution_count": 16,
      "outputs": []
    },
    {
      "cell_type": "code",
      "metadata": {
        "id": "4Nhv0AuFNGCo"
      },
      "source": [
        "def clean_tweets(tweet):\n",
        "  tweet = BeautifulSoup(tweet, 'lxml').get_text()\n",
        "  tweet = re.sub(r\"@[A-Za-z0-9]+\", ' ', tweet) #retirar o @user\n",
        "  tweet = re.sub(r\"https?://[A-Za-z0-9./]+\", \" \", tweet) #retirar a url\n",
        "  tweet = re.sub(r\"[^a-zA-Z.!?]\", ' ', tweet) #retirar os numeros\n",
        "  tweet = re.sub(r\" +\", ' ', tweet) #remover os excessos de espaços\n",
        "\n",
        "  tweet = tweet.lower() #conversão para minúsculo\n",
        "  document = nlp(tweet)\n",
        "\n",
        "  words = []\n",
        "  for token in document:\n",
        "    words.append(token.text)\n",
        "\n",
        "    #remoção das stop_words e pontuações\n",
        "  words = [word for word in words if word not in stop_words and word not in string.punctuation]\n",
        "  words = ' '.join([str(element) for element in words])\n",
        "  return words"
      ],
      "execution_count": 17,
      "outputs": []
    },
    {
      "cell_type": "code",
      "metadata": {
        "id": "rDNzYelNNUf0"
      },
      "source": [
        "text = '@Kenichan I dived many times for the ball. Managed to save 50%  The rest go out of bounds'"
      ],
      "execution_count": 18,
      "outputs": []
    },
    {
      "cell_type": "code",
      "metadata": {
        "id": "q50gcexYN9ef",
        "colab": {
          "base_uri": "https://localhost:8080/",
          "height": 36
        },
        "outputId": "8ff1e2c6-57aa-48c3-a355-60fd3fe4fcd6"
      },
      "source": [
        "text = clean_tweets(text)\n",
        "text"
      ],
      "execution_count": 19,
      "outputs": [
        {
          "output_type": "execute_result",
          "data": {
            "application/vnd.google.colaboratory.intrinsic+json": {
              "type": "string"
            },
            "text/plain": [
              "'  dived times ball managed save rest bounds'"
            ]
          },
          "metadata": {},
          "execution_count": 19
        }
      ]
    },
    {
      "cell_type": "code",
      "metadata": {
        "id": "Oot1R7ATN52b"
      },
      "source": [
        "data_clean = [clean_tweets(tweet) for tweet in X]"
      ],
      "execution_count": 20,
      "outputs": []
    },
    {
      "cell_type": "code",
      "metadata": {
        "id": "2ezSWJYtON8B",
        "colab": {
          "base_uri": "https://localhost:8080/"
        },
        "outputId": "a8992cd3-8e25-4c97-b768-beb672d6c383"
      },
      "source": [
        "for _ in range(10):\n",
        "  print(data_clean[random.randint(0, len(data_clean) - 1)])"
      ],
      "execution_count": 21,
      "outputs": [
        {
          "output_type": "stream",
          "name": "stdout",
          "text": [
            "  yep .... wow m sad\n",
            "nt wait song storm nt wait video send miley jb demi\n",
            "  congrats finally got u twitter heck use thing teach\n",
            "home clean loved\n",
            "best friend meanie\n",
            "  ve xero migrating evening\n",
            "  nation s easy trial version gravity test day\n",
            "pissed hurt tired new\n",
            "spotted major fails week s cigstar article\n",
            "walkinq santa monica w tha cuzzo tina\n"
          ]
        }
      ]
    },
    {
      "cell_type": "markdown",
      "metadata": {
        "id": "PM4S-dtpYMTo"
      },
      "source": [
        "# Tokenização"
      ]
    },
    {
      "cell_type": "code",
      "metadata": {
        "id": "JLwVOJEoYO2J"
      },
      "source": [
        "tokenizer = tfds.deprecated.text.SubwordTextEncoder.build_from_corpus(data_clean, target_vocab_size=65000)"
      ],
      "execution_count": 22,
      "outputs": []
    },
    {
      "cell_type": "markdown",
      "metadata": {
        "id": "a9XcSUEDZOfR"
      },
      "source": [
        "*   A língua inglesa tem um total estimado de palavras entre 500 mil e 1,2 milhão.\n",
        "*   Uma pessoa adulta pode conhecer entre 10 mil e 20 mil palavras\n",
        "*   No dia a dia as pessoas costumam usar em média 3 mil palavras\n",
        "\n",
        "Ou seja,\n",
        "> Não precisa de um vocabulário gigantemente enorme para o algoritmo funcionar\n",
        "\n",
        "\n",
        "\n",
        "\n",
        "\n",
        "\n"
      ]
    },
    {
      "cell_type": "code",
      "metadata": {
        "id": "yuaV4lFSaGF2",
        "colab": {
          "base_uri": "https://localhost:8080/"
        },
        "outputId": "9e401b51-1ceb-49b8-9e2f-31e8b5c1ec48"
      },
      "source": [
        "print(tokenizer.vocab_size)"
      ],
      "execution_count": 23,
      "outputs": [
        {
          "output_type": "stream",
          "name": "stdout",
          "text": [
            "52634\n"
          ]
        }
      ]
    },
    {
      "cell_type": "code",
      "metadata": {
        "id": "-iWlkp3CaWjH",
        "colab": {
          "base_uri": "https://localhost:8080/"
        },
        "outputId": "23852945-c8fe-4a1d-8738-bf0a04c54082"
      },
      "source": [
        "id_phrase = tokenizer.encode(\"i am happy\")\n",
        "id_phrase"
      ],
      "execution_count": 24,
      "outputs": [
        {
          "output_type": "execute_result",
          "data": {
            "text/plain": [
              "[247, 3103, 380]"
            ]
          },
          "metadata": {},
          "execution_count": 24
        }
      ]
    },
    {
      "cell_type": "code",
      "metadata": {
        "colab": {
          "base_uri": "https://localhost:8080/",
          "height": 36
        },
        "id": "HhGoO31jacoA",
        "outputId": "71190fcb-87ff-45c1-98e0-6d3a899adca1"
      },
      "source": [
        "phrase = tokenizer.decode(id_phrase)\n",
        "phrase"
      ],
      "execution_count": 25,
      "outputs": [
        {
          "output_type": "execute_result",
          "data": {
            "application/vnd.google.colaboratory.intrinsic+json": {
              "type": "string"
            },
            "text/plain": [
              "'i am happy'"
            ]
          },
          "metadata": {},
          "execution_count": 25
        }
      ]
    },
    {
      "cell_type": "code",
      "metadata": {
        "id": "HBQlgcdJaOiS"
      },
      "source": [
        "data_inputs = [tokenizer.encode(frase) for frase in data_clean]"
      ],
      "execution_count": 59,
      "outputs": []
    },
    {
      "cell_type": "code",
      "metadata": {
        "colab": {
          "base_uri": "https://localhost:8080/"
        },
        "id": "VykQrHNqbJIF",
        "outputId": "14aabfa8-f01d-470b-f504-373dabec89de"
      },
      "source": [
        "for _ in range(10):\n",
        "  print(data_inputs[random.randint(0, len(data_inputs) - 1)])"
      ],
      "execution_count": 60,
      "outputs": [
        {
          "output_type": "stream",
          "name": "stdout",
          "text": [
            "[1, 5332, 16365, 440, 2140, 39744, 4514, 3057, 16]\n",
            "[7190, 17400, 111, 8070, 194, 780, 5, 3, 2099]\n",
            "[17826, 1025, 286, 22258, 108, 2, 4499, 740, 740, 757, 249, 1102, 27047, 37918, 5, 16650, 355, 5683, 22927]\n",
            "[1, 108, 39, 272, 7601, 7, 121, 663, 856, 225]\n",
            "[2304, 452, 383, 181, 286, 402, 751]\n",
            "[1, 152, 19014, 226, 919, 5, 3, 932, 23755]\n",
            "[120, 376, 371, 22403, 10031, 18272, 2, 921, 10542, 3954, 23382]\n",
            "[9881, 1596, 2, 359, 2224]\n",
            "[1, 289, 13515]\n",
            "[1, 7495, 8266, 9221, 24374]\n"
          ]
        }
      ]
    },
    {
      "cell_type": "markdown",
      "metadata": {
        "id": "UQn0qMYHbSvK"
      },
      "source": [
        "# Padding"
      ]
    },
    {
      "cell_type": "code",
      "metadata": {
        "colab": {
          "base_uri": "https://localhost:8080/"
        },
        "id": "ayuNua44bVL3",
        "outputId": "562f844a-4d3d-4213-842b-f3bb602bdd95"
      },
      "source": [
        "max_len = max([len(sentence) for sentence in data_inputs]) #vendo quem tem o maior tamanho\n",
        "max_len"
      ],
      "execution_count": 61,
      "outputs": [
        {
          "output_type": "execute_result",
          "data": {
            "text/plain": [
              "64"
            ]
          },
          "metadata": {},
          "execution_count": 61
        }
      ]
    },
    {
      "cell_type": "code",
      "metadata": {
        "id": "VboyGRRVbeFB"
      },
      "source": [
        "#fazer o preenchimento para todos os data_inputs possuírem o mesmo tamanho\n",
        "data_inputs = tf.keras.preprocessing.sequence.pad_sequences(data_inputs, value=0, padding='post', maxlen=max_len)"
      ],
      "execution_count": 62,
      "outputs": []
    },
    {
      "cell_type": "code",
      "metadata": {
        "colab": {
          "base_uri": "https://localhost:8080/"
        },
        "id": "R9-kJG7kcAMa",
        "outputId": "ed4e5ded-0840-43cf-91f7-41a06c51cdd2"
      },
      "source": [
        "for _ in range(10):\n",
        "  print(data_inputs[random.randint(0, len(data_inputs) - 1)])"
      ],
      "execution_count": 63,
      "outputs": [
        {
          "output_type": "stream",
          "name": "stdout",
          "text": [
            "[ 2548   245 45870  1393  6999  8711   245  1053     0     0     0     0\n",
            "     0     0     0     0     0     0     0     0     0     0     0     0\n",
            "     0     0     0     0     0     0     0     0     0     0     0     0\n",
            "     0     0     0     0     0     0     0     0     0     0     0     0\n",
            "     0     0     0     0     0     0     0     0     0     0     0     0\n",
            "     0     0     0     0]\n",
            "[   71    32  4642 38646     2  3384 36172 52410  3374 18545   194  4333\n",
            "     0     0     0     0     0     0     0     0     0     0     0     0\n",
            "     0     0     0     0     0     0     0     0     0     0     0     0\n",
            "     0     0     0     0     0     0     0     0     0     0     0     0\n",
            "     0     0     0     0     0     0     0     0     0     0     0     0\n",
            "     0     0     0     0]\n",
            "[35914    78   194  4830  1648  1366   365    38     0     0     0     0\n",
            "     0     0     0     0     0     0     0     0     0     0     0     0\n",
            "     0     0     0     0     0     0     0     0     0     0     0     0\n",
            "     0     0     0     0     0     0     0     0     0     0     0     0\n",
            "     0     0     0     0     0     0     0     0     0     0     0     0\n",
            "     0     0     0     0]\n",
            "[   1 1117    0    0    0    0    0    0    0    0    0    0    0    0\n",
            "    0    0    0    0    0    0    0    0    0    0    0    0    0    0\n",
            "    0    0    0    0    0    0    0    0    0    0    0    0    0    0\n",
            "    0    0    0    0    0    0    0    0    0    0    0    0    0    0\n",
            "    0    0    0    0    0    0    0    0]\n",
            "[  245  5008   849  9070   298 19544   546 15426 19269 34071 46095    18\n",
            "    13 31221    16     0     0     0     0     0     0     0     0     0\n",
            "     0     0     0     0     0     0     0     0     0     0     0     0\n",
            "     0     0     0     0     0     0     0     0     0     0     0     0\n",
            "     0     0     0     0     0     0     0     0     0     0     0     0\n",
            "     0     0     0     0]\n",
            "[  199 10806     0     0     0     0     0     0     0     0     0     0\n",
            "     0     0     0     0     0     0     0     0     0     0     0     0\n",
            "     0     0     0     0     0     0     0     0     0     0     0     0\n",
            "     0     0     0     0     0     0     0     0     0     0     0     0\n",
            "     0     0     0     0     0     0     0     0     0     0     0     0\n",
            "     0     0     0     0]\n",
            "[    1   196  1652 34588 52410    20  8311  6044   158   525     4    23\n",
            "  1318  3247  2765   276   639 19519  5527     0     0     0     0     0\n",
            "     0     0     0     0     0     0     0     0     0     0     0     0\n",
            "     0     0     0     0     0     0     0     0     0     0     0     0\n",
            "     0     0     0     0     0     0     0     0     0     0     0     0\n",
            "     0     0     0     0]\n",
            "[  1  29   3  59 503  35 699   0   0   0   0   0   0   0   0   0   0   0\n",
            "   0   0   0   0   0   0   0   0   0   0   0   0   0   0   0   0   0   0\n",
            "   0   0   0   0   0   0   0   0   0   0   0   0   0   0   0   0   0   0\n",
            "   0   0   0   0   0   0   0   0   0   0]\n",
            "[    1    67  1463    97  1172 10896  2876    13   154   466    97   367\n",
            "    41     0     0     0     0     0     0     0     0     0     0     0\n",
            "     0     0     0     0     0     0     0     0     0     0     0     0\n",
            "     0     0     0     0     0     0     0     0     0     0     0     0\n",
            "     0     0     0     0     0     0     0     0     0     0     0     0\n",
            "     0     0     0     0]\n",
            "[   48   374   447  4584   547  1082  8210     2   190   210  1046     2\n",
            " 52272 31192 52410  1628   166    16     0     0     0     0     0     0\n",
            "     0     0     0     0     0     0     0     0     0     0     0     0\n",
            "     0     0     0     0     0     0     0     0     0     0     0     0\n",
            "     0     0     0     0     0     0     0     0     0     0     0     0\n",
            "     0     0     0     0]\n"
          ]
        }
      ]
    },
    {
      "cell_type": "markdown",
      "metadata": {
        "id": "xtrUhm9ucEkk"
      },
      "source": [
        "# Divisão dos Dados em Treino e Teste"
      ]
    },
    {
      "cell_type": "code",
      "metadata": {
        "id": "5g569iuscIZI"
      },
      "source": [
        "train_X, test_X, train_y, test_y = train_test_split(data_inputs, y, test_size=0.3, stratify = y)\n",
        "#30% para teste e 70% para treinamento"
      ],
      "execution_count": 64,
      "outputs": []
    },
    {
      "cell_type": "code",
      "metadata": {
        "colab": {
          "base_uri": "https://localhost:8080/"
        },
        "id": "sYURFSeAcuWh",
        "outputId": "42f57f72-5e44-498e-f29f-21b40781c4ed"
      },
      "source": [
        "[train_X.shape, train_y.shape]"
      ],
      "execution_count": 65,
      "outputs": [
        {
          "output_type": "execute_result",
          "data": {
            "text/plain": [
              "[(168000, 64), (168000,)]"
            ]
          },
          "metadata": {},
          "execution_count": 65
        }
      ]
    },
    {
      "cell_type": "code",
      "metadata": {
        "colab": {
          "base_uri": "https://localhost:8080/"
        },
        "id": "mVAIlvd6c7-1",
        "outputId": "ec7176d1-367d-49b1-d4b6-f9cb8f4dfcc1"
      },
      "source": [
        "[test_X.shape, test_y.shape]"
      ],
      "execution_count": 66,
      "outputs": [
        {
          "output_type": "execute_result",
          "data": {
            "text/plain": [
              "[(72000, 64), (72000,)]"
            ]
          },
          "metadata": {},
          "execution_count": 66
        }
      ]
    },
    {
      "cell_type": "markdown",
      "metadata": {
        "id": "0glEa3YpdFeS"
      },
      "source": [
        "# Construção do Modelo"
      ]
    },
    {
      "cell_type": "code",
      "metadata": {
        "id": "xQCkdaAustnm"
      },
      "source": [
        "class DCNN (tf.keras.Model):\n",
        "  #tf.keras.model é a classe base do keras para trabalhar com a construção de modelos de redes neurais\n",
        "  def __init__(self, vocab_size, emb_dim, nb_filters, ffn_units, nb_classes, dropout_rate, training=False, name=\"dcnn\"):\n",
        "    #dropout é uma técnica muito utilizada para evitar overfit, ele vai zerar alguns neurônios para que a rede \n",
        "    super(DCNN, self).__init__(name=name)\n",
        "\n",
        "    #primeira camada é de embeding\n",
        "    self.embedding = layers.Embedding(vocab_size, emb_dim)\n",
        "    #gerar uma matriz com a quantidade de linhas que o vocabulário tem e 200 colunas\n",
        "    #primeira camada pronta\n",
        "\n",
        "    self.bigram = layers.Conv1D(filters=nb_filters, kernel_size=2, padding='same', activation='relu') #objeto (filtro com 2 linhas)\n",
        "\n",
        "    self.trigram = layers.Conv1D(filters=nb_filters, kernel_size=3, padding='same', activation='relu') #objeto (filtro com 3 linhas)\n",
        "\n",
        "    self.fourgram = layers.Conv1D(filters=nb_filters, kernel_size=4, padding='same', activation='relu') #objeto (filtro com 4 linhas)\n",
        "    #camadas de convolução prontas\n",
        "\n",
        "    #definir uma camada para fazer o pooling\n",
        "    self.pool =  layers.GlobalMaxPool1D()\n",
        "    #porque só vamos usar uma camada de pooling que vai extrair informação de todos os filtros feitos e no fim será feita a concatenação\n",
        "\n",
        "    #definir agora a estrutura da rede neural densa\n",
        "    self.dense_1 = layers.Dense(units = ffn_units, activation = 'relu')  #a primeira camada oculta terá 256 neurônios \n",
        "    self.dropout = layers.Dropout(rate = dropout_rate) #ele vai zerar 10% dos valores da camada oculta para evitar overfiting\n",
        "\n",
        "    #camada de saída\n",
        "    self.last_dense = layers.Dense(units = 1, activation = 'sigmoid')\n",
        "    \n",
        "  #interligar as camadas\n",
        "  def call(self, inputs, training):\n",
        "    x = self.embedding(inputs) #passando os textos para a camada de embeding\n",
        "    x_1 = self.bigram(x) #ligando o X com a camda bigram \n",
        "    x_1 = self.pool(x_1) #ligando o x_1 com a camada de pooling retornando um val somente\n",
        "    x_2 = self.trigram(x) #ligando X com a camada trigram \n",
        "    x_2 = self.pool(x_2) #ligando x_2 com a camada de pooling retornando um val somente\n",
        "    x_3 = self.fourgram(x) #ligando x com o fourgram\n",
        "    x_3 = self.pool(x_3) #ligando x_4 com a camada de pooling retornando um val somente\n",
        "\n",
        "    merged = tf.concat([x_1, x_2, x_3], axis = -1) #contatenar todos os valores de poolinng retornados\n",
        "    merged = self.dense_1(merged) #ligando os dados que saem das camadas acima com a primeira camada densa\n",
        "    merged = self.dropout(merged, training) #para zerar uma porção dos neurônios\n",
        "    output = self.last_dense(merged)\n",
        "\n",
        "    return output\n"
      ],
      "execution_count": 67,
      "outputs": []
    },
    {
      "cell_type": "markdown",
      "metadata": {
        "id": "iTw0ZeZOdNSz"
      },
      "source": [
        "## Treinamento"
      ]
    },
    {
      "cell_type": "code",
      "metadata": {
        "id": "Vuo674lFdRVV"
      },
      "source": [
        "vocab_size = tokenizer.vocab_size #tamanho do vocabulário\n",
        "emb_dim = 200                     #numero de colunas do emdebin \n",
        "nb_filters = 100                  #trabalhar com 100 filtros (300 filtros)\n",
        "ffn_units = 256                   #quantidade de neurônios na camada oculta\n",
        "batch_size = 64                   #fazer o ajuste dos pesos em 64 e 64 registros\n",
        "nb_classes = 2                    #quantidade de classes\n",
        "dropout_rate = 0.2                #há um artigo cientifico que indica que na maioria dos casos, é interessante definir esse val\n",
        "nb_epochs = 5                     #número de épocas"
      ],
      "execution_count": 68,
      "outputs": []
    },
    {
      "cell_type": "code",
      "metadata": {
        "id": "PHfDB8a8dUfT"
      },
      "source": [
        "Dcnn = DCNN(vocab_size=vocab_size, emb_dim=emb_dim, nb_filters=nb_filters, ffn_units=ffn_units, nb_classes=nb_classes, dropout_rate=dropout_rate)"
      ],
      "execution_count": 69,
      "outputs": []
    },
    {
      "cell_type": "code",
      "metadata": {
        "id": "W8XS_55JdXie"
      },
      "source": [
        "Dcnn.compile(loss='binary_crossentropy', optimizer='adam', metrics=['accuracy'])"
      ],
      "execution_count": 71,
      "outputs": []
    },
    {
      "cell_type": "code",
      "metadata": {
        "id": "HkVRS-VKZhZ8"
      },
      "source": [
        "checkpoint_path = \"./\"\n",
        "ckpt = tf.train.Checkpoint(Dcnn=Dcnn)\n",
        "ckpt_manager = tf.train.CheckpointManager(ckpt, checkpoint_path, max_to_keep=5)\n",
        "if ckpt_manager.latest_checkpoint:\n",
        "  ckpt.restore(ckpt_manager.latest_checkpoint)\n",
        "  print('Latest checkpoint restored')"
      ],
      "execution_count": 38,
      "outputs": []
    },
    {
      "cell_type": "code",
      "metadata": {
        "colab": {
          "base_uri": "https://localhost:8080/"
        },
        "id": "a9bv_spedZHH",
        "outputId": "fdfa26c0-9031-400e-a8b9-4eb23faf6926"
      },
      "source": [
        "#treinamento\n",
        "history = Dcnn.fit(train_X, train_y, batch_size = batch_size, epochs = nb_epochs, verbose = 1, validation_split = 0.10)"
      ],
      "execution_count": 73,
      "outputs": [
        {
          "output_type": "stream",
          "name": "stdout",
          "text": [
            "Epoch 1/5\n",
            "2363/2363 [==============================] - 574s 243ms/step - loss: 0.5031 - accuracy: 0.7511 - val_loss: 0.4731 - val_accuracy: 0.7711\n",
            "Epoch 2/5\n",
            "2363/2363 [==============================] - 569s 241ms/step - loss: 0.3605 - accuracy: 0.8404 - val_loss: 0.5175 - val_accuracy: 0.7621\n",
            "Epoch 3/5\n",
            "2363/2363 [==============================] - 569s 241ms/step - loss: 0.1877 - accuracy: 0.9231 - val_loss: 0.7005 - val_accuracy: 0.7366\n",
            "Epoch 4/5\n",
            "2363/2363 [==============================] - 570s 241ms/step - loss: 0.0982 - accuracy: 0.9588 - val_loss: 1.0482 - val_accuracy: 0.7430\n",
            "Epoch 5/5\n",
            "2363/2363 [==============================] - 573s 242ms/step - loss: 0.0684 - accuracy: 0.9716 - val_loss: 1.2300 - val_accuracy: 0.7285\n"
          ]
        }
      ]
    },
    {
      "cell_type": "code",
      "metadata": {
        "colab": {
          "base_uri": "https://localhost:8080/",
          "height": 36
        },
        "id": "7t_k5wNeZnVX",
        "outputId": "34a9d0da-9674-4d51-9ef3-2c4f89888d56"
      },
      "source": [
        "ckpt_manager.save()"
      ],
      "execution_count": 74,
      "outputs": [
        {
          "output_type": "execute_result",
          "data": {
            "application/vnd.google.colaboratory.intrinsic+json": {
              "type": "string"
            },
            "text/plain": [
              "'./ckpt-3'"
            ]
          },
          "metadata": {},
          "execution_count": 74
        }
      ]
    },
    {
      "cell_type": "markdown",
      "metadata": {
        "id": "gJnmkhuVkf1Y"
      },
      "source": [
        "# Validação do Modelo"
      ]
    },
    {
      "cell_type": "code",
      "metadata": {
        "colab": {
          "base_uri": "https://localhost:8080/"
        },
        "id": "v09xbNefkj_y",
        "outputId": "7265a167-59a6-477f-8cb7-c0bc9fd7f713"
      },
      "source": [
        "results = Dcnn.evaluate(test_X, test_y, batch_size=batch_size)\n",
        "_, acuracia = results\n",
        "print(acuracia)"
      ],
      "execution_count": 121,
      "outputs": [
        {
          "output_type": "stream",
          "name": "stdout",
          "text": [
            "1125/1125 [==============================] - 40s 35ms/step - loss: 1.2625 - accuracy: 0.7244\n",
            "0.7244305610656738\n"
          ]
        }
      ]
    },
    {
      "cell_type": "code",
      "metadata": {
        "id": "VtzX52kykw8F"
      },
      "source": [
        "y_preditor_test = Dcnn.predict(test_X)"
      ],
      "execution_count": 122,
      "outputs": []
    },
    {
      "cell_type": "code",
      "metadata": {
        "colab": {
          "base_uri": "https://localhost:8080/"
        },
        "id": "ROzigOI7lSh1",
        "outputId": "650bea8f-76f3-44e2-9555-b2507ad05572"
      },
      "source": [
        "y_preditor_test"
      ],
      "execution_count": 123,
      "outputs": [
        {
          "output_type": "execute_result",
          "data": {
            "text/plain": [
              "array([[4.7926694e-02],\n",
              "       [9.0229714e-01],\n",
              "       [2.3616152e-05],\n",
              "       ...,\n",
              "       [9.9601066e-01],\n",
              "       [9.8527932e-01],\n",
              "       [4.0931064e-01]], dtype=float32)"
            ]
          },
          "metadata": {},
          "execution_count": 123
        }
      ]
    },
    {
      "cell_type": "code",
      "metadata": {
        "colab": {
          "base_uri": "https://localhost:8080/"
        },
        "id": "Gt8iJmAV4F5i",
        "outputId": "1064c7dc-4124-43b5-bc92-5c9a91a9c568"
      },
      "source": [
        "saida_treinamento = (y_preditor_test > 0.5)\n",
        "saida_treinamento"
      ],
      "execution_count": 124,
      "outputs": [
        {
          "output_type": "execute_result",
          "data": {
            "text/plain": [
              "array([[False],\n",
              "       [ True],\n",
              "       [False],\n",
              "       ...,\n",
              "       [ True],\n",
              "       [ True],\n",
              "       [False]])"
            ]
          },
          "metadata": {},
          "execution_count": 124
        }
      ]
    },
    {
      "cell_type": "code",
      "metadata": {
        "colab": {
          "base_uri": "https://localhost:8080/"
        },
        "id": "OTE3kfGu32_s",
        "outputId": "1b55c580-da94-4e6a-a302-cf05076f2490"
      },
      "source": [
        "test_y"
      ],
      "execution_count": 125,
      "outputs": [
        {
          "output_type": "execute_result",
          "data": {
            "text/plain": [
              "395437     0\n",
              "1263123    1\n",
              "618310     0\n",
              "436393     0\n",
              "293772     0\n",
              "          ..\n",
              "165112     0\n",
              "1095942    1\n",
              "1380796    1\n",
              "938800     1\n",
              "1242560    1\n",
              "Name: sentiment, Length: 72000, dtype: int64"
            ]
          },
          "metadata": {},
          "execution_count": 125
        }
      ]
    },
    {
      "cell_type": "code",
      "metadata": {
        "colab": {
          "base_uri": "https://localhost:8080/"
        },
        "id": "0BTLh4bd6jQX",
        "outputId": "a9bd2c9b-4077-4c38-9957-715af63b83a0"
      },
      "source": [
        "cm = confusion_matrix(test_y, saida_treinamento)\n",
        "cm\n",
        "#reg da classe 0 classificado como 0 | reg da classe 0 classificado como 1\n",
        "#reg da classe 1 classificado como 1 | reg da classe 1 classificado como 1"
      ],
      "execution_count": 144,
      "outputs": [
        {
          "output_type": "execute_result",
          "data": {
            "text/plain": [
              "array([[26539,  9461],\n",
              "       [10380, 25620]])"
            ]
          },
          "metadata": {},
          "execution_count": 144
        }
      ]
    },
    {
      "cell_type": "code",
      "metadata": {
        "colab": {
          "base_uri": "https://localhost:8080/",
          "height": 610
        },
        "id": "rUAt9l4B6-HF",
        "outputId": "fed26837-607a-4648-e5f5-96c3acac26ef"
      },
      "source": [
        "fig, ax = plt.subplots(figsize=(15, 10))\n",
        "sns.heatmap(cm, annot=True)\n",
        "\n",
        "#linha vestical: classe\n",
        "#linha horizontal: como foi classificado\n",
        "\n",
        "#classe 0 classificado como 0, classe 0 classificado como 1\n",
        "#classe 1 classificado como 0, classe 1 classificado como 1"
      ],
      "execution_count": 145,
      "outputs": [
        {
          "output_type": "execute_result",
          "data": {
            "text/plain": [
              "<matplotlib.axes._subplots.AxesSubplot at 0x7f24544a1c10>"
            ]
          },
          "metadata": {},
          "execution_count": 145
        },
        {
          "output_type": "display_data",
          "data": {
            "image/png": "[encoded data removed]",
            "text/plain": [
              "<Figure size 1080x720 with 2 Axes>"
            ]
          },
          "metadata": {
            "needs_background": "light"
          }
        }
      ]
    },
    {
      "cell_type": "code",
      "metadata": {
        "id": "Vu5Yzxs26ukJ",
        "colab": {
          "base_uri": "https://localhost:8080/"
        },
        "outputId": "30f679df-bebd-4096-fa21-8eab095ce1db"
      },
      "source": [
        "text = 'i like you'\n",
        "text = tokenizer.encode(text)\n",
        "prob = Dcnn(np.array([text]), training=False).numpy()\n",
        "\n",
        "if prob > 0.5:\n",
        "  print(\"sentimento positivo. saida:\", prob)\n",
        "else:\n",
        "  print(\"sentimento negativo. saida:\", prob)"
      ],
      "execution_count": 167,
      "outputs": [
        {
          "output_type": "stream",
          "name": "stdout",
          "text": [
            "sentimento negativo. saida: [[0.36076415]]\n"
          ]
        }
      ]
    }
  ]
}